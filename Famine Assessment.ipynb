{
 "cells": [
  {
   "cell_type": "markdown",
   "id": "a2d7b4aa",
   "metadata": {},
   "source": [
    "# Data Source\n",
    "* [Famine](https://web.archive.org/web/20170802193952/http://fletcher.tufts.edu/World-Peace-Foundation/Program/Research/Mass-Atrocities-Research-Program/Mass-Famine#Dataset)"
   ]
  },
  {
   "cell_type": "markdown",
   "id": "1304e0b2",
   "metadata": {},
   "source": [
    "# Data Preparation"
   ]
  },
  {
   "cell_type": "code",
   "execution_count": 1,
   "id": "fa6c3f79",
   "metadata": {},
   "outputs": [],
   "source": [
    "# Get all necessary packages\n",
    "import pandas as pd\n",
    "import os\n",
    "import scipy.stats as stats\n",
    "from scipy.optimize import curve_fit\n",
    "import matplotlib.pyplot as plt\n",
    "import numpy as np"
   ]
  },
  {
   "cell_type": "code",
   "execution_count": 2,
   "id": "ef720fd2",
   "metadata": {},
   "outputs": [
    {
     "data": {
      "text/html": [
       "<div>\n",
       "<style scoped>\n",
       "    .dataframe tbody tr th:only-of-type {\n",
       "        vertical-align: middle;\n",
       "    }\n",
       "\n",
       "    .dataframe tbody tr th {\n",
       "        vertical-align: top;\n",
       "    }\n",
       "\n",
       "    .dataframe thead th {\n",
       "        text-align: right;\n",
       "    }\n",
       "</style>\n",
       "<table border=\"1\" class=\"dataframe\">\n",
       "  <thead>\n",
       "    <tr style=\"text-align: right;\">\n",
       "      <th></th>\n",
       "      <th>Date Range</th>\n",
       "      <th>Start Year</th>\n",
       "      <th>End Year</th>\n",
       "      <th>Duration</th>\n",
       "      <th>Country</th>\n",
       "      <th>Cause</th>\n",
       "      <th>Range Death</th>\n",
       "      <th>Mean Death</th>\n",
       "      <th>Death per Year</th>\n",
       "      <th>Source</th>\n",
       "    </tr>\n",
       "  </thead>\n",
       "  <tbody>\n",
       "    <tr>\n",
       "      <th>0</th>\n",
       "      <td>1870-71</td>\n",
       "      <td>1870</td>\n",
       "      <td>1871</td>\n",
       "      <td>NaN</td>\n",
       "      <td>Persia</td>\n",
       "      <td>Economic crisis, drought</td>\n",
       "      <td>500,000-1.5 million</td>\n",
       "      <td>1000000</td>\n",
       "      <td>NaN</td>\n",
       "      <td>Foran 1989, Okasaki 1986</td>\n",
       "    </tr>\n",
       "    <tr>\n",
       "      <th>1</th>\n",
       "      <td>1876-1879</td>\n",
       "      <td>1876</td>\n",
       "      <td>1879</td>\n",
       "      <td>NaN</td>\n",
       "      <td>China (Shanxi, Henan, Shandong, Zhili, and Sha...</td>\n",
       "      <td>Drought, lack of state capacity due to rebelli...</td>\n",
       "      <td>9m</td>\n",
       "      <td>9000000</td>\n",
       "      <td>NaN</td>\n",
       "      <td>Edgerton-Tarpley, 2008; Fuller, 2015; Davis, 2...</td>\n",
       "    </tr>\n",
       "    <tr>\n",
       "      <th>2</th>\n",
       "      <td>1870s</td>\n",
       "      <td>1870</td>\n",
       "      <td>1879</td>\n",
       "      <td>NaN</td>\n",
       "      <td>India</td>\n",
       "      <td>Drought, colonialism</td>\n",
       "      <td>6m</td>\n",
       "      <td>6000000</td>\n",
       "      <td>NaN</td>\n",
       "      <td>Davis, 2002</td>\n",
       "    </tr>\n",
       "    <tr>\n",
       "      <th>3</th>\n",
       "      <td>1876-79</td>\n",
       "      <td>1876</td>\n",
       "      <td>1876</td>\n",
       "      <td>NaN</td>\n",
       "      <td>Brazil</td>\n",
       "      <td>Drought, economic crisis</td>\n",
       "      <td>500000</td>\n",
       "      <td>500000</td>\n",
       "      <td>NaN</td>\n",
       "      <td>Cunniff, 1970</td>\n",
       "    </tr>\n",
       "    <tr>\n",
       "      <th>4</th>\n",
       "      <td>1885-99</td>\n",
       "      <td>1885</td>\n",
       "      <td>1899</td>\n",
       "      <td>NaN</td>\n",
       "      <td>Congo</td>\n",
       "      <td>Colonialism, forced labor</td>\n",
       "      <td>3m</td>\n",
       "      <td>3000000</td>\n",
       "      <td>NaN</td>\n",
       "      <td>Hochschild, 1998; Acherson 1999</td>\n",
       "    </tr>\n",
       "  </tbody>\n",
       "</table>\n",
       "</div>"
      ],
      "text/plain": [
       "  Date Range  Start Year  End Year  Duration  \\\n",
       "0    1870-71        1870      1871       NaN   \n",
       "1  1876-1879        1876      1879       NaN   \n",
       "2      1870s        1870      1879       NaN   \n",
       "3    1876-79        1876      1876       NaN   \n",
       "4    1885-99        1885      1899       NaN   \n",
       "\n",
       "                                             Country  \\\n",
       "0                                             Persia   \n",
       "1  China (Shanxi, Henan, Shandong, Zhili, and Sha...   \n",
       "2                                              India   \n",
       "3                                             Brazil   \n",
       "4                                              Congo   \n",
       "\n",
       "                                               Cause          Range Death  \\\n",
       "0                           Economic crisis, drought  500,000-1.5 million   \n",
       "1  Drought, lack of state capacity due to rebelli...                   9m   \n",
       "2                               Drought, colonialism                   6m   \n",
       "3                           Drought, economic crisis               500000   \n",
       "4                          Colonialism, forced labor                   3m   \n",
       "\n",
       "   Mean Death  Death per Year  \\\n",
       "0     1000000             NaN   \n",
       "1     9000000             NaN   \n",
       "2     6000000             NaN   \n",
       "3      500000             NaN   \n",
       "4     3000000             NaN   \n",
       "\n",
       "                                              Source  \n",
       "0                           Foran 1989, Okasaki 1986  \n",
       "1  Edgerton-Tarpley, 2008; Fuller, 2015; Davis, 2...  \n",
       "2                                        Davis, 2002  \n",
       "3                                      Cunniff, 1970  \n",
       "4                    Hochschild, 1998; Acherson 1999  "
      ]
     },
     "execution_count": 2,
     "metadata": {},
     "output_type": "execute_result"
    }
   ],
   "source": [
    "# Read in and check file\n",
    "famine = pd.read_csv(\"data\" + os.sep + \"famine\" + os.sep + \"famine.csv\", sep = \",\")\n",
    "famine.head()"
   ]
  },
  {
   "cell_type": "code",
   "execution_count": 3,
   "id": "35a098f0",
   "metadata": {},
   "outputs": [
    {
     "data": {
      "text/html": [
       "<div>\n",
       "<style scoped>\n",
       "    .dataframe tbody tr th:only-of-type {\n",
       "        vertical-align: middle;\n",
       "    }\n",
       "\n",
       "    .dataframe tbody tr th {\n",
       "        vertical-align: top;\n",
       "    }\n",
       "\n",
       "    .dataframe thead th {\n",
       "        text-align: right;\n",
       "    }\n",
       "</style>\n",
       "<table border=\"1\" class=\"dataframe\">\n",
       "  <thead>\n",
       "    <tr style=\"text-align: right;\">\n",
       "      <th></th>\n",
       "      <th>Date Range</th>\n",
       "      <th>Start Year</th>\n",
       "      <th>End Year</th>\n",
       "      <th>Duration</th>\n",
       "      <th>Country</th>\n",
       "      <th>Cause</th>\n",
       "      <th>Range Death</th>\n",
       "      <th>Mean Death</th>\n",
       "      <th>Death per Year</th>\n",
       "      <th>Source</th>\n",
       "    </tr>\n",
       "  </thead>\n",
       "  <tbody>\n",
       "    <tr>\n",
       "      <th>0</th>\n",
       "      <td>1870-71</td>\n",
       "      <td>1870</td>\n",
       "      <td>1871</td>\n",
       "      <td>2</td>\n",
       "      <td>Persia</td>\n",
       "      <td>Economic crisis, drought</td>\n",
       "      <td>500,000-1.5 million</td>\n",
       "      <td>1000000</td>\n",
       "      <td>NaN</td>\n",
       "      <td>Foran 1989, Okasaki 1986</td>\n",
       "    </tr>\n",
       "    <tr>\n",
       "      <th>1</th>\n",
       "      <td>1876-1879</td>\n",
       "      <td>1876</td>\n",
       "      <td>1879</td>\n",
       "      <td>4</td>\n",
       "      <td>China (Shanxi, Henan, Shandong, Zhili, and Sha...</td>\n",
       "      <td>Drought, lack of state capacity due to rebelli...</td>\n",
       "      <td>9m</td>\n",
       "      <td>9000000</td>\n",
       "      <td>NaN</td>\n",
       "      <td>Edgerton-Tarpley, 2008; Fuller, 2015; Davis, 2...</td>\n",
       "    </tr>\n",
       "    <tr>\n",
       "      <th>2</th>\n",
       "      <td>1870s</td>\n",
       "      <td>1870</td>\n",
       "      <td>1879</td>\n",
       "      <td>10</td>\n",
       "      <td>India</td>\n",
       "      <td>Drought, colonialism</td>\n",
       "      <td>6m</td>\n",
       "      <td>6000000</td>\n",
       "      <td>NaN</td>\n",
       "      <td>Davis, 2002</td>\n",
       "    </tr>\n",
       "    <tr>\n",
       "      <th>3</th>\n",
       "      <td>1876-79</td>\n",
       "      <td>1876</td>\n",
       "      <td>1876</td>\n",
       "      <td>1</td>\n",
       "      <td>Brazil</td>\n",
       "      <td>Drought, economic crisis</td>\n",
       "      <td>500000</td>\n",
       "      <td>500000</td>\n",
       "      <td>NaN</td>\n",
       "      <td>Cunniff, 1970</td>\n",
       "    </tr>\n",
       "    <tr>\n",
       "      <th>4</th>\n",
       "      <td>1885-99</td>\n",
       "      <td>1885</td>\n",
       "      <td>1899</td>\n",
       "      <td>15</td>\n",
       "      <td>Congo</td>\n",
       "      <td>Colonialism, forced labor</td>\n",
       "      <td>3m</td>\n",
       "      <td>3000000</td>\n",
       "      <td>NaN</td>\n",
       "      <td>Hochschild, 1998; Acherson 1999</td>\n",
       "    </tr>\n",
       "  </tbody>\n",
       "</table>\n",
       "</div>"
      ],
      "text/plain": [
       "  Date Range  Start Year  End Year  Duration  \\\n",
       "0    1870-71        1870      1871         2   \n",
       "1  1876-1879        1876      1879         4   \n",
       "2      1870s        1870      1879        10   \n",
       "3    1876-79        1876      1876         1   \n",
       "4    1885-99        1885      1899        15   \n",
       "\n",
       "                                             Country  \\\n",
       "0                                             Persia   \n",
       "1  China (Shanxi, Henan, Shandong, Zhili, and Sha...   \n",
       "2                                              India   \n",
       "3                                             Brazil   \n",
       "4                                              Congo   \n",
       "\n",
       "                                               Cause          Range Death  \\\n",
       "0                           Economic crisis, drought  500,000-1.5 million   \n",
       "1  Drought, lack of state capacity due to rebelli...                   9m   \n",
       "2                               Drought, colonialism                   6m   \n",
       "3                           Drought, economic crisis               500000   \n",
       "4                          Colonialism, forced labor                   3m   \n",
       "\n",
       "   Mean Death  Death per Year  \\\n",
       "0     1000000             NaN   \n",
       "1     9000000             NaN   \n",
       "2     6000000             NaN   \n",
       "3      500000             NaN   \n",
       "4     3000000             NaN   \n",
       "\n",
       "                                              Source  \n",
       "0                           Foran 1989, Okasaki 1986  \n",
       "1  Edgerton-Tarpley, 2008; Fuller, 2015; Davis, 2...  \n",
       "2                                        Davis, 2002  \n",
       "3                                      Cunniff, 1970  \n",
       "4                    Hochschild, 1998; Acherson 1999  "
      ]
     },
     "execution_count": 3,
     "metadata": {},
     "output_type": "execute_result"
    }
   ],
   "source": [
    "# Calculate duration \n",
    "# Add one to avoid duration of 0\n",
    "famine[\"Duration\"] = (famine[\"End Year\"]+1) - famine[\"Start Year\"]\n",
    "famine.head()"
   ]
  },
  {
   "cell_type": "code",
   "execution_count": 4,
   "id": "9504c164",
   "metadata": {},
   "outputs": [
    {
     "data": {
      "text/html": [
       "<div>\n",
       "<style scoped>\n",
       "    .dataframe tbody tr th:only-of-type {\n",
       "        vertical-align: middle;\n",
       "    }\n",
       "\n",
       "    .dataframe tbody tr th {\n",
       "        vertical-align: top;\n",
       "    }\n",
       "\n",
       "    .dataframe thead th {\n",
       "        text-align: right;\n",
       "    }\n",
       "</style>\n",
       "<table border=\"1\" class=\"dataframe\">\n",
       "  <thead>\n",
       "    <tr style=\"text-align: right;\">\n",
       "      <th></th>\n",
       "      <th>Date Range</th>\n",
       "      <th>Start Year</th>\n",
       "      <th>End Year</th>\n",
       "      <th>Duration</th>\n",
       "      <th>Country</th>\n",
       "      <th>Cause</th>\n",
       "      <th>Range Death</th>\n",
       "      <th>Mean Death</th>\n",
       "      <th>Death per Year</th>\n",
       "      <th>Source</th>\n",
       "    </tr>\n",
       "  </thead>\n",
       "  <tbody>\n",
       "    <tr>\n",
       "      <th>0</th>\n",
       "      <td>1870-71</td>\n",
       "      <td>1870</td>\n",
       "      <td>1871</td>\n",
       "      <td>2</td>\n",
       "      <td>Persia</td>\n",
       "      <td>Economic crisis, drought</td>\n",
       "      <td>500,000-1.5 million</td>\n",
       "      <td>1000000</td>\n",
       "      <td>500000.0</td>\n",
       "      <td>Foran 1989, Okasaki 1986</td>\n",
       "    </tr>\n",
       "    <tr>\n",
       "      <th>1</th>\n",
       "      <td>1876-1879</td>\n",
       "      <td>1876</td>\n",
       "      <td>1879</td>\n",
       "      <td>4</td>\n",
       "      <td>China (Shanxi, Henan, Shandong, Zhili, and Sha...</td>\n",
       "      <td>Drought, lack of state capacity due to rebelli...</td>\n",
       "      <td>9m</td>\n",
       "      <td>9000000</td>\n",
       "      <td>2250000.0</td>\n",
       "      <td>Edgerton-Tarpley, 2008; Fuller, 2015; Davis, 2...</td>\n",
       "    </tr>\n",
       "    <tr>\n",
       "      <th>2</th>\n",
       "      <td>1870s</td>\n",
       "      <td>1870</td>\n",
       "      <td>1879</td>\n",
       "      <td>10</td>\n",
       "      <td>India</td>\n",
       "      <td>Drought, colonialism</td>\n",
       "      <td>6m</td>\n",
       "      <td>6000000</td>\n",
       "      <td>600000.0</td>\n",
       "      <td>Davis, 2002</td>\n",
       "    </tr>\n",
       "    <tr>\n",
       "      <th>3</th>\n",
       "      <td>1876-79</td>\n",
       "      <td>1876</td>\n",
       "      <td>1876</td>\n",
       "      <td>1</td>\n",
       "      <td>Brazil</td>\n",
       "      <td>Drought, economic crisis</td>\n",
       "      <td>500000</td>\n",
       "      <td>500000</td>\n",
       "      <td>500000.0</td>\n",
       "      <td>Cunniff, 1970</td>\n",
       "    </tr>\n",
       "    <tr>\n",
       "      <th>4</th>\n",
       "      <td>1885-99</td>\n",
       "      <td>1885</td>\n",
       "      <td>1899</td>\n",
       "      <td>15</td>\n",
       "      <td>Congo</td>\n",
       "      <td>Colonialism, forced labor</td>\n",
       "      <td>3m</td>\n",
       "      <td>3000000</td>\n",
       "      <td>200000.0</td>\n",
       "      <td>Hochschild, 1998; Acherson 1999</td>\n",
       "    </tr>\n",
       "  </tbody>\n",
       "</table>\n",
       "</div>"
      ],
      "text/plain": [
       "  Date Range  Start Year  End Year  Duration  \\\n",
       "0    1870-71        1870      1871         2   \n",
       "1  1876-1879        1876      1879         4   \n",
       "2      1870s        1870      1879        10   \n",
       "3    1876-79        1876      1876         1   \n",
       "4    1885-99        1885      1899        15   \n",
       "\n",
       "                                             Country  \\\n",
       "0                                             Persia   \n",
       "1  China (Shanxi, Henan, Shandong, Zhili, and Sha...   \n",
       "2                                              India   \n",
       "3                                             Brazil   \n",
       "4                                              Congo   \n",
       "\n",
       "                                               Cause          Range Death  \\\n",
       "0                           Economic crisis, drought  500,000-1.5 million   \n",
       "1  Drought, lack of state capacity due to rebelli...                   9m   \n",
       "2                               Drought, colonialism                   6m   \n",
       "3                           Drought, economic crisis               500000   \n",
       "4                          Colonialism, forced labor                   3m   \n",
       "\n",
       "   Mean Death  Death per Year  \\\n",
       "0     1000000        500000.0   \n",
       "1     9000000       2250000.0   \n",
       "2     6000000        600000.0   \n",
       "3      500000        500000.0   \n",
       "4     3000000        200000.0   \n",
       "\n",
       "                                              Source  \n",
       "0                           Foran 1989, Okasaki 1986  \n",
       "1  Edgerton-Tarpley, 2008; Fuller, 2015; Davis, 2...  \n",
       "2                                        Davis, 2002  \n",
       "3                                      Cunniff, 1970  \n",
       "4                    Hochschild, 1998; Acherson 1999  "
      ]
     },
     "execution_count": 4,
     "metadata": {},
     "output_type": "execute_result"
    }
   ],
   "source": [
    "# Calculate death per year\n",
    "famine[\"Death per Year\"] = famine[\"Mean Death\"] / famine[\"Duration\"]\n",
    "famine.head()"
   ]
  },
  {
   "cell_type": "code",
   "execution_count": 5,
   "id": "0c163fa4",
   "metadata": {},
   "outputs": [
    {
     "data": {
      "text/plain": [
       "Text(0.5, 0, 'Death per year')"
      ]
     },
     "execution_count": 5,
     "metadata": {},
     "output_type": "execute_result"
    },
    {
     "data": {
      "image/png": "[encoded data removed]",
      "text/plain": [
       "<Figure size 432x288 with 1 Axes>"
      ]
     },
     "metadata": {
      "needs_background": "light"
     },
     "output_type": "display_data"
    }
   ],
   "source": [
    "# Plot death per year\n",
    "ax = famine[\"Death per Year\"].sort_values(ascending=False).plot(kind=\"hist\", bins= 10)\n",
    "ax.set_title(\"Death toll per year for all recorded famines\")\n",
    "ax.set_ylabel(\"Count\")\n",
    "ax.set_xlabel(\"Death per year\")"
   ]
  },
  {
   "cell_type": "markdown",
   "id": "3f876688",
   "metadata": {},
   "source": [
    "# Prepare for fitting"
   ]
  },
  {
   "cell_type": "code",
   "execution_count": 6,
   "id": "8d0caaff",
   "metadata": {},
   "outputs": [
    {
     "data": {
      "text/plain": [
       "[<matplotlib.lines.Line2D at 0x7f0620771730>]"
      ]
     },
     "execution_count": 6,
     "metadata": {},
     "output_type": "execute_result"
    },
    {
     "data": {
      "image/png": "[encoded data removed]",
      "text/plain": [
       "<Figure size 432x288 with 1 Axes>"
      ]
     },
     "metadata": {
      "needs_background": "light"
     },
     "output_type": "display_data"
    }
   ],
   "source": [
    "# Bin the data\n",
    "density, death_per_year = np.histogram(famine[\"Death per Year\"], bins = len(famine.index), density=True)\n",
    "# adjust the denisty to the bin width (https://stackoverflow.com/questions/21532667/numpy-histogram-cumulative-density-does-not-sum-to-1)\n",
    "density = density*np.diff(death_per_year)\n",
    "# calculate the bin means\n",
    "death_per_year = np.array([0.5 * (death_per_year[i] + death_per_year[i+1]) for i in range(len(death_per_year)-1)])\n",
    "# plot\n",
    "plt.plot(death_per_year, density)"
   ]
  },
  {
   "cell_type": "markdown",
   "id": "4dd6a56d",
   "metadata": {},
   "source": [
    "# Histogram fit to Power Law"
   ]
  },
  {
   "cell_type": "code",
   "execution_count": 7,
   "id": "fcbef253",
   "metadata": {},
   "outputs": [
    {
     "data": {
      "text/plain": [
       "array([-1.57879647])"
      ]
     },
     "execution_count": 7,
     "metadata": {},
     "output_type": "execute_result"
    }
   ],
   "source": [
    "# Fit data to power law\n",
    "def powerlaw(x,exponent):\n",
    "    return (x**exponent)/np.min(x)**exponent\n",
    "params, covar = curve_fit(powerlaw, death_per_year, density)\n",
    "params"
   ]
  },
  {
   "cell_type": "code",
   "execution_count": 8,
   "id": "79463827",
   "metadata": {},
   "outputs": [
    {
     "data": {
      "image/png": "[encoded data removed]",
      "text/plain": [
       "<Figure size 432x288 with 1 Axes>"
      ]
     },
     "metadata": {
      "needs_background": "light"
     },
     "output_type": "display_data"
    }
   ],
   "source": [
    "# Plot the power law\n",
    "x_sim = np.linspace(1,10000000)\n",
    "y_sim = powerlaw(x_sim, params[0])\n",
    "fig = plt.figure()\n",
    "ax = fig.add_subplot(2, 1, 1)\n",
    "ax.plot(x_sim, y_sim)\n",
    "ax.set_xscale(\"log\")"
   ]
  },
  {
   "cell_type": "code",
   "execution_count": 9,
   "id": "f1b57d10",
   "metadata": {},
   "outputs": [
    {
     "name": "stdout",
     "output_type": "stream",
     "text": [
      "Dead: 1\n",
      "Prob of this many dead: 1.0\n",
      "Dead: 10\n",
      "Prob of this many dead: 0.02637567197512913\n",
      "Dead: 100\n",
      "Prob of this many dead: 0.0006956760721396122\n",
      "Dead: 1000\n",
      "Prob of this many dead: 1.834892387970068e-05\n",
      "Dead: 10000\n",
      "Prob of this many dead: 4.839651973475989e-07\n",
      "Dead: 100000\n",
      "Prob of this many dead: 1.2764907292618904e-08\n",
      "Dead: 1000000\n",
      "Prob of this many dead: 3.366830075430499e-10\n",
      "Dead: 10000000\n",
      "Prob of this many dead: 8.880240566555412e-12\n",
      "Dead: 100000000\n",
      "Prob of this many dead: 2.342223122437004e-13\n"
     ]
    }
   ],
   "source": [
    "# Probability of death by famine\n",
    "amount_dead = np.array([1,10,100,1000,10000,100000,1000000,10000000,100000000])\n",
    "probs = powerlaw([amount_dead],params[0])\n",
    "for i in range(len(amount_dead)):\n",
    "    print(\"Dead: \" + (str(amount_dead[i])))\n",
    "    print(\"Prob of this many dead: \" + str(probs[0][i]))"
   ]
  },
  {
   "cell_type": "markdown",
   "id": "a220f44f",
   "metadata": {},
   "source": [
    "# Histogram fit to lognormal"
   ]
  },
  {
   "cell_type": "code",
   "execution_count": 10,
   "id": "d922a35a",
   "metadata": {},
   "outputs": [
    {
     "data": {
      "text/plain": [
       "array([1., 1.])"
      ]
     },
     "execution_count": 10,
     "metadata": {},
     "output_type": "execute_result"
    }
   ],
   "source": [
    "# Fit data to lognormal\n",
    "def lognormal(x,upsilon,epsilon):\n",
    "    numerator=np.exp(-np.power((np.log(x)-upsilon),2)/(2*epsilon**2))\n",
    "    denominator=x*np.sqrt(2*np.pi*epsilon**2)\n",
    "    return numerator/denominator\n",
    "params, covar = curve_fit(lognormal, death_per_year, density)\n",
    "params"
   ]
  },
  {
   "cell_type": "code",
   "execution_count": 11,
   "id": "870dc563",
   "metadata": {},
   "outputs": [
    {
     "data": {
      "image/png": "[encoded data removed]",
      "text/plain": [
       "<Figure size 432x288 with 1 Axes>"
      ]
     },
     "metadata": {
      "needs_background": "light"
     },
     "output_type": "display_data"
    }
   ],
   "source": [
    "# Plot the lognormal\n",
    "x_sim = np.linspace(1,10000000)\n",
    "y_sim = lognormal(x_sim, params[0], params[1])\n",
    "fig = plt.figure()\n",
    "ax = fig.add_subplot(2, 1, 1)\n",
    "ax.plot(x_sim, y_sim)\n",
    "ax.set_xscale(\"log\")"
   ]
  },
  {
   "cell_type": "code",
   "execution_count": 12,
   "id": "64849261",
   "metadata": {},
   "outputs": [
    {
     "name": "stdout",
     "output_type": "stream",
     "text": [
      "Dead: 1\n",
      "Prob of this many dead: 0.24197072451914337\n",
      "Dead: 10\n",
      "Prob of this many dead: 0.01707930831120357\n",
      "Dead: 100\n",
      "Prob of this many dead: 6.006101107306473e-06\n",
      "Dead: 1000\n",
      "Prob of this many dead: 1.0522765842835267e-11\n",
      "Dead: 10000\n",
      "Prob of this many dead: 9.185061761818969e-20\n",
      "Dead: 100000\n",
      "Prob of this many dead: 3.994378012615924e-30\n",
      "Dead: 1000000\n",
      "Prob of this many dead: 8.654284159840767e-43\n",
      "Dead: 10000000\n",
      "Prob of this many dead: 9.341745823045648e-58\n",
      "Dead: 100000000\n",
      "Prob of this many dead: 5.023886845089719e-75\n"
     ]
    }
   ],
   "source": [
    "# Probability of death by famine\n",
    "amount_dead = np.array([1,10,100,1000,10000,100000,1000000,10000000,100000000])\n",
    "probs = [lognormal(i,params[0], params[1]) for i in amount_dead]\n",
    "for i in range(len(amount_dead)):\n",
    "    print(\"Dead: \" + (str(amount_dead[i])))\n",
    "    print(\"Prob of this many dead: \" + str(probs[i]))"
   ]
  },
  {
   "cell_type": "markdown",
   "id": "7f101223",
   "metadata": {},
   "source": [
    "# Cumulative distribution fitting with power law"
   ]
  },
  {
   "cell_type": "code",
   "execution_count": 58,
   "id": "94d9b3b1",
   "metadata": {},
   "outputs": [],
   "source": [
    "famine=famine.sort_values(\"Death per Year\",ascending=False)"
   ]
  },
  {
   "cell_type": "code",
   "execution_count": 59,
   "id": "96bb6756",
   "metadata": {},
   "outputs": [
    {
     "data": {
      "text/plain": [
       "Text(0, 0.5, 'Occurence in time?')"
      ]
     },
     "execution_count": 59,
     "metadata": {},
     "output_type": "execute_result"
    },
    {
     "data": {
      "image/png": "[encoded data removed]",
      "text/plain": [
       "<Figure size 432x288 with 1 Axes>"
      ]
     },
     "metadata": {
      "needs_background": "light"
     },
     "output_type": "display_data"
    }
   ],
   "source": [
    "years_with_famine = 67\n",
    "famine[\"time\"] = 1/years_with_famine\n",
    "famine[\"cs_time\"] = np.cumsum(famine[\"time\"])\n",
    "fig = plt.Figure()\n",
    "plt.plot(famine[\"Death per Year\"], famine[\"cs_time\"])\n",
    "ax = plt.gca()\n",
    "ax.set_xlabel(\"Death per Year\")\n",
    "ax.set_ylabel(\"Occurence in time?\")"
   ]
  },
  {
   "cell_type": "code",
   "execution_count": 82,
   "id": "7dfd92fa",
   "metadata": {},
   "outputs": [
    {
     "data": {
      "text/plain": [
       "array([ 1.53162714e-04, -1.31797139e+03,  1.32095718e+03])"
      ]
     },
     "execution_count": 82,
     "metadata": {},
     "output_type": "execute_result"
    }
   ],
   "source": [
    "# Fit data to power law\n",
    "def func_powerlaw(x, m, c, c0):\n",
    "    return c0 + x**m * c\n",
    "# Provide values for the parameters to avoid them becoming to negative?\n",
    "params, covar = curve_fit(func_powerlaw, famine[\"Death per Year\"], famine[\"cs_time\"], maxfev=100000)\n",
    "params"
   ]
  },
  {
   "cell_type": "code",
   "execution_count": 87,
   "id": "9d7b10e8",
   "metadata": {},
   "outputs": [
    {
     "data": {
      "image/png": "[encoded data removed]",
      "text/plain": [
       "<Figure size 432x288 with 1 Axes>"
      ]
     },
     "metadata": {
      "needs_background": "light"
     },
     "output_type": "display_data"
    }
   ],
   "source": [
    "# Plot the power law\n",
    "x_sim = np.linspace(1,10000000)\n",
    "y_sim = func_powerlaw(x_sim, params[0], params[1], params[2])\n",
    "fig = plt.figure()\n",
    "ax = fig.add_subplot(2, 1, 1)\n",
    "ax.plot(x_sim, y_sim, label=\"sim\")\n",
    "ax.plot(famine[\"Death per Year\"], famine[\"cs_time\"], label=\"real\")\n",
    "ax.set_ylim([0,1])\n",
    "ax.set_xscale(\"log\")"
   ]
  },
  {
   "cell_type": "code",
   "execution_count": 86,
   "id": "dd1a36fb",
   "metadata": {},
   "outputs": [
    {
     "name": "stdout",
     "output_type": "stream",
     "text": [
      "Dead: 1\n",
      "Prob of this many dead: 2.9857809850966532\n",
      "Dead: 10\n",
      "Prob of this many dead: 0.5154219548742276\n",
      "Dead: 100\n",
      "Prob of this many dead: 0.37523123002620196\n",
      "Dead: 1000\n",
      "Prob of this many dead: 0.29321788864399423\n",
      "Dead: 10000\n",
      "Prob of this many dead: 0.2350253733916361\n",
      "Dead: 100000\n",
      "Prob of this many dead: 0.1898859715290655\n",
      "Dead: 1000000\n",
      "Prob of this many dead: 0.1530032420689622\n",
      "Dead: 10000000\n",
      "Prob of this many dead: 0.12181853076344851\n",
      "Dead: 100000000\n",
      "Prob of this many dead: 0.09480450722367095\n",
      "Dead: 1000000000\n",
      "Prob of this many dead: 0.0709759893068167\n"
     ]
    }
   ],
   "source": [
    "# Probability of death by famine\n",
    "amount_dead = np.array([1,10,100,1000,10000,100000,1000000,10000000,100000000,1000000000])\n",
    "probs = func_powerlaw(x_sim, params[0], params[1], params[2])\n",
    "for i in range(len(amount_dead)):\n",
    "    print(\"Dead: \" + (str(amount_dead[i])))\n",
    "    print(\"Prob of this many dead: \" + str(probs[i]))"
   ]
  },
  {
   "cell_type": "markdown",
   "id": "9c54faa3",
   "metadata": {},
   "source": [
    "# Cumulative distribution fitting with lognormal"
   ]
  },
  {
   "cell_type": "code",
   "execution_count": 26,
   "id": "e1f01e5e",
   "metadata": {},
   "outputs": [
    {
     "name": "stderr",
     "output_type": "stream",
     "text": [
      "/home/florian/local/anaconda3/lib/python3.9/site-packages/scipy/optimize/minpack.py:833: OptimizeWarning: Covariance of the parameters could not be estimated\n",
      "  warnings.warn('Covariance of the parameters could not be estimated',\n"
     ]
    },
    {
     "data": {
      "text/plain": [
       "array([1., 1.])"
      ]
     },
     "execution_count": 26,
     "metadata": {},
     "output_type": "execute_result"
    }
   ],
   "source": [
    "# Fit data to lognormal\n",
    "def lognormal(x,upsilon,epsilon):\n",
    "    numerator=np.exp(-np.power((np.log(x)-upsilon),2)/(2*epsilon**2))\n",
    "    denominator=x*np.sqrt(2*np.pi*epsilon**2)\n",
    "    return numerator/denominator\n",
    "params, covar = curve_fit(lognormal, famine[\"Death per Year\"], famine[\"cs_time\"])\n",
    "params"
   ]
  },
  {
   "cell_type": "code",
   "execution_count": 27,
   "id": "c0c113fd",
   "metadata": {
    "scrolled": true
   },
   "outputs": [
    {
     "data": {
      "text/plain": [
       "[<matplotlib.lines.Line2D at 0x7f062019f1c0>]"
      ]
     },
     "execution_count": 27,
     "metadata": {},
     "output_type": "execute_result"
    },
    {
     "data": {
      "image/png": "[encoded data removed]",
      "text/plain": [
       "<Figure size 432x288 with 1 Axes>"
      ]
     },
     "metadata": {
      "needs_background": "light"
     },
     "output_type": "display_data"
    }
   ],
   "source": [
    "# Plot the lognormal\n",
    "x_sim = np.linspace(1,10000000)\n",
    "y_sim = lognormal(x_sim, params[0], params[1])\n",
    "fig = plt.figure()\n",
    "ax = fig.add_subplot(2, 1, 1)\n",
    "ax.plot(x_sim, y_sim, label=\"sim\")\n",
    "ax.plot(famine[\"Death per Year\"], famine[\"cs_time\"], label=\"real\")\n",
    "#ax.set_xscale(\"log\")"
   ]
  },
  {
   "cell_type": "code",
   "execution_count": 29,
   "id": "2d3056ae",
   "metadata": {},
   "outputs": [
    {
     "name": "stdout",
     "output_type": "stream",
     "text": [
      "Dead: 1\n",
      "Prob of this many dead: 0.24197072451914337\n",
      "Dead: 10\n",
      "Prob of this many dead: 8.397982015811593e-34\n",
      "Dead: 100\n",
      "Prob of this many dead: 1.3784232157222573e-37\n",
      "Dead: 1000\n",
      "Prob of this many dead: 6.740468450610778e-40\n",
      "Dead: 10000\n",
      "Prob of this many dead: 1.3993500189074077e-41\n",
      "Dead: 100000\n",
      "Prob of this many dead: 6.545170900083819e-43\n",
      "Dead: 1000000\n",
      "Prob of this many dead: 5.1662411604011995e-44\n",
      "Dead: 10000000\n",
      "Prob of this many dead: 5.882378565418778e-45\n",
      "Dead: 100000000\n",
      "Prob of this many dead: 8.78635965440304e-46\n",
      "Dead: 1000000000\n",
      "Prob of this many dead: 1.6181673056981614e-46\n"
     ]
    }
   ],
   "source": [
    "# Probability of death by famine\n",
    "amount_dead = np.array([1,10,100,1000,10000,100000,1000000,10000000,100000000,1000000000])\n",
    "probs = lognormal(x_sim, params[0], params[1])\n",
    "for i in range(len(amount_dead)):\n",
    "    print(\"Dead: \" + (str(amount_dead[i])))\n",
    "    print(\"Prob of this many dead: \" + str(probs[i]))"
   ]
  }
 ],
 "metadata": {
  "kernelspec": {
   "display_name": "Python 3 (ipykernel)",
   "language": "python",
   "name": "python3"
  },
  "language_info": {
   "codemirror_mode": {
    "name": "ipython",
    "version": 3
   },
   "file_extension": ".py",
   "mimetype": "text/x-python",
   "name": "python",
   "nbconvert_exporter": "python",
   "pygments_lexer": "ipython3",
   "version": "3.9.7"
  }
 },
 "nbformat": 4,
 "nbformat_minor": 5
}
