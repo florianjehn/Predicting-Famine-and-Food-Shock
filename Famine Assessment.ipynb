{
 "cells": [
  {
   "cell_type": "markdown",
   "id": "a2d7b4aa",
   "metadata": {},
   "source": [
    "# Data Source\n",
    "* [Famine](https://web.archive.org/web/20170802193952/http://fletcher.tufts.edu/World-Peace-Foundation/Program/Research/Mass-Atrocities-Research-Program/Mass-Famine#Dataset)\n",
    "\n",
    "I came across this data from the [World in Data Famine Post](https://ourworldindata.org/famines). "
   ]
  },
  {
   "cell_type": "markdown",
   "id": "1304e0b2",
   "metadata": {},
   "source": [
    "# Data Preparation"
   ]
  },
  {
   "cell_type": "code",
   "execution_count": 1,
   "id": "fa6c3f79",
   "metadata": {},
   "outputs": [],
   "source": [
    "# Get all necessary packages\n",
    "import pandas as pd\n",
    "import os\n",
    "import scipy.stats as stats\n",
    "from scipy.optimize import curve_fit\n",
    "import matplotlib.pyplot as plt\n",
    "import numpy as np"
   ]
  },
  {
   "cell_type": "code",
   "execution_count": 2,
   "id": "ef720fd2",
   "metadata": {},
   "outputs": [],
   "source": [
    "# Read in and check file\n",
    "famine = pd.read_csv(\"data\" + os.sep + \"famine\" + os.sep + \"famine.csv\", sep = \",\")\n",
    "#famine.head()"
   ]
  },
  {
   "cell_type": "code",
   "execution_count": 3,
   "id": "35a098f0",
   "metadata": {},
   "outputs": [],
   "source": [
    "# Calculate duration \n",
    "# Add one to avoid duration of 0\n",
    "famine[\"Duration\"] = (famine[\"End Year\"]+1) - famine[\"Start Year\"]\n",
    "#famine.head()"
   ]
  },
  {
   "cell_type": "markdown",
   "id": "0279f0c9",
   "metadata": {},
   "source": [
    "I decided to not work with the total death count of the famines, but instead calculate how many people died per year the famine persisted. This makes them more easily comparable. "
   ]
  },
  {
   "cell_type": "code",
   "execution_count": 4,
   "id": "9504c164",
   "metadata": {},
   "outputs": [],
   "source": [
    "# Calculate death per year\n",
    "famine[\"Death per Year\"] = famine[\"Mean Death\"] / famine[\"Duration\"]\n",
    "#famine.head()"
   ]
  },
  {
   "cell_type": "code",
   "execution_count": 5,
   "id": "0c163fa4",
   "metadata": {},
   "outputs": [
    {
     "data": {
      "text/plain": [
       "Text(0.5, 0, 'Death per year')"
      ]
     },
     "execution_count": 5,
     "metadata": {},
     "output_type": "execute_result"
    },
    {
     "data": {
      "image/png": "[encoded data removed]",
      "text/plain": [
       "<Figure size 432x288 with 1 Axes>"
      ]
     },
     "metadata": {
      "needs_background": "light"
     },
     "output_type": "display_data"
    }
   ],
   "source": [
    "# Plot death per year\n",
    "ax = famine[\"Death per Year\"].sort_values(ascending=False).plot(kind=\"hist\", bins= 10)\n",
    "ax.set_title(\"Death toll per year for all recorded famines\")\n",
    "ax.set_ylabel(\"Count\")\n",
    "ax.set_xlabel(\"Death per year\")"
   ]
  },
  {
   "cell_type": "markdown",
   "id": "3f876688",
   "metadata": {},
   "source": [
    "# Prepare for histogram fitting\n",
    "\n",
    "I first tried to do this via fitting to a histogram, as Morgan proposed. However, I am not so sure if this is a good way to do it. Making a histogram means binning the data and if possible you should always do your analysis on unbinned data. Also, the break is quite hard if we use it that way, which results in worse fits. "
   ]
  },
  {
   "cell_type": "code",
   "execution_count": 6,
   "id": "8d0caaff",
   "metadata": {},
   "outputs": [
    {
     "data": {
      "text/plain": [
       "[<matplotlib.lines.Line2D at 0x7f4f5eb05580>]"
      ]
     },
     "execution_count": 6,
     "metadata": {},
     "output_type": "execute_result"
    },
    {
     "data": {
      "image/png": "[encoded data removed]",
      "text/plain": [
       "<Figure size 432x288 with 1 Axes>"
      ]
     },
     "metadata": {
      "needs_background": "light"
     },
     "output_type": "display_data"
    }
   ],
   "source": [
    "# Bin the data\n",
    "density, death_per_year = np.histogram(famine[\"Death per Year\"], bins = len(famine.index), density=True)\n",
    "# adjust the denisty to the bin width (https://stackoverflow.com/questions/21532667/numpy-histogram-cumulative-density-does-not-sum-to-1)\n",
    "density = density*np.diff(death_per_year)\n",
    "# calculate the bin means\n",
    "death_per_year = np.array([0.5 * (death_per_year[i] + death_per_year[i+1]) for i in range(len(death_per_year)-1)])\n",
    "# plot\n",
    "plt.plot(death_per_year, density)"
   ]
  },
  {
   "cell_type": "markdown",
   "id": "4dd6a56d",
   "metadata": {},
   "source": [
    "# Histogram fit to Power Law\n",
    "As the histogram data is so rough, we can get a fit, but not a great one. "
   ]
  },
  {
   "cell_type": "code",
   "execution_count": 7,
   "id": "fcbef253",
   "metadata": {},
   "outputs": [
    {
     "data": {
      "text/plain": [
       "array([-1.57879647])"
      ]
     },
     "execution_count": 7,
     "metadata": {},
     "output_type": "execute_result"
    }
   ],
   "source": [
    "# Fit data to power law\n",
    "def powerlaw(x,exponent):\n",
    "    return (x**exponent)/np.min(x)**exponent\n",
    "params, covar = curve_fit(powerlaw, death_per_year, density)\n",
    "params"
   ]
  },
  {
   "cell_type": "code",
   "execution_count": 8,
   "id": "79463827",
   "metadata": {},
   "outputs": [
    {
     "data": {
      "text/plain": [
       "<matplotlib.legend.Legend at 0x7f4f5eaec1f0>"
      ]
     },
     "execution_count": 8,
     "metadata": {},
     "output_type": "execute_result"
    },
    {
     "data": {
      "image/png": "[encoded data removed]",
      "text/plain": [
       "<Figure size 432x288 with 1 Axes>"
      ]
     },
     "metadata": {
      "needs_background": "light"
     },
     "output_type": "display_data"
    }
   ],
   "source": [
    "# Plot the power law\n",
    "x_sim = np.linspace(1,10000000)\n",
    "y_sim = powerlaw(x_sim, params[0])\n",
    "fig = plt.figure()\n",
    "ax = fig.add_subplot(2, 1, 1)\n",
    "ax.plot(x_sim, y_sim,label=\"sim\")\n",
    "ax.plot(death_per_year, density, label=\"real\")\n",
    "ax.legend()\n",
    "#ax.set_yscale(\"log\")\n",
    "#ax.set_xscale(\"log\")"
   ]
  },
  {
   "cell_type": "markdown",
   "id": "a220f44f",
   "metadata": {},
   "source": [
    "# Histogram fit to lognormal\n",
    "Lognormal is even worse, so I would recommend sticking to the powerlaw. "
   ]
  },
  {
   "cell_type": "code",
   "execution_count": 9,
   "id": "d922a35a",
   "metadata": {},
   "outputs": [
    {
     "data": {
      "text/plain": [
       "array([1., 1.])"
      ]
     },
     "execution_count": 9,
     "metadata": {},
     "output_type": "execute_result"
    }
   ],
   "source": [
    "# Fit data to lognormal\n",
    "def lognormal(x,upsilon,epsilon):\n",
    "    numerator=np.exp(-np.power((np.log(x)-upsilon),2)/(2*epsilon**2))\n",
    "    denominator=x*np.sqrt(2*np.pi*epsilon**2)\n",
    "    return numerator/denominator\n",
    "params, covar = curve_fit(lognormal, death_per_year, density)\n",
    "params"
   ]
  },
  {
   "cell_type": "code",
   "execution_count": 10,
   "id": "870dc563",
   "metadata": {},
   "outputs": [
    {
     "data": {
      "text/plain": [
       "<matplotlib.legend.Legend at 0x7f4f5ea3d3a0>"
      ]
     },
     "execution_count": 10,
     "metadata": {},
     "output_type": "execute_result"
    },
    {
     "data": {
      "image/png": "[encoded data removed]",
      "text/plain": [
       "<Figure size 432x288 with 1 Axes>"
      ]
     },
     "metadata": {
      "needs_background": "light"
     },
     "output_type": "display_data"
    }
   ],
   "source": [
    "# Plot the lognormal\n",
    "x_sim = np.linspace(1,10000000)\n",
    "y_sim = lognormal(x_sim, params[0], params[1])\n",
    "fig = plt.figure()\n",
    "ax = fig.add_subplot(2, 1, 1)\n",
    "ax.plot(x_sim, y_sim)\n",
    "ax.plot(death_per_year, density, label=\"real\")\n",
    "ax.legend()\n",
    "#ax.set_xscale(\"log\")\n",
    "#ax.set_yscale(\"log\")"
   ]
  },
  {
   "cell_type": "markdown",
   "id": "7f101223",
   "metadata": {},
   "source": [
    "# Cumulative distribution fitting \n",
    "Looking at the cumulative distribution allows us to use all the data, without introducing arbitrary bins like when we use a histogram. To get the Frequency of all events we simply take the cumulative sum of the total time we looked at. \n",
    "\n",
    "Morgan also said I should try implementing [this fitting](https://scipy-cookbook.readthedocs.io/items/FittingData.html) from the scipy cookbook to avoid a fit that goes below 0. However, I didn't manage to get it running in the time I had. But I am also not sure how viable this code is for this, as the data it is fitted on is generated with a power law that does not go below zero. Therefore, the resulting fit naturally goes not below 0 as well."
   ]
  },
  {
   "cell_type": "code",
   "execution_count": 11,
   "id": "94d9b3b1",
   "metadata": {},
   "outputs": [],
   "source": [
    "# Sort for further calculations with cumsum\n",
    "famine=famine.sort_values(\"Death per Year\",ascending=False)"
   ]
  },
  {
   "cell_type": "code",
   "execution_count": 12,
   "id": "96bb6756",
   "metadata": {},
   "outputs": [
    {
     "data": {
      "image/png": "[encoded data removed]",
      "text/plain": [
       "<Figure size 432x288 with 1 Axes>"
      ]
     },
     "metadata": {
      "needs_background": "light"
     },
     "output_type": "display_data"
    }
   ],
   "source": [
    "# Calculate the Frequency in a year with a given famine\n",
    "# Does it make more sense to take the whole timeline with 141 or just the years with famine?\n",
    "years_with_famine = 141\n",
    "famine[\"time\"] = 1/years_with_famine\n",
    "famine[\"Frequency\"] = np.cumsum(famine[\"time\"])\n",
    "# Plot\n",
    "fig = plt.Figure()\n",
    "plt.plot(famine[\"Death per Year\"], famine[\"Frequency\"])\n",
    "ax = plt.gca()\n",
    "ax.set_xlabel(\"Death per Year\")\n",
    "ax.set_ylabel(\"Frequency\")\n",
    "ax.set_title(\"Frequency of reaching this much death per year per year\")\n",
    "ax.set_yscale(\"log\")\n",
    "ax.set_xscale(\"log\")"
   ]
  },
  {
   "cell_type": "markdown",
   "id": "17a5ba6c",
   "metadata": {},
   "source": [
    "Does not seem like a real power law, but relatively close. "
   ]
  },
  {
   "cell_type": "markdown",
   "id": "97612a06",
   "metadata": {},
   "source": [
    "## Fitting with power law"
   ]
  },
  {
   "cell_type": "code",
   "execution_count": 13,
   "id": "7dfd92fa",
   "metadata": {},
   "outputs": [
    {
     "data": {
      "text/plain": [
       "array([-0.33526421, 13.52172298])"
      ]
     },
     "execution_count": 13,
     "metadata": {},
     "output_type": "execute_result"
    }
   ],
   "source": [
    "# Fit data to power law\n",
    "def func_powerlaw(x, m, c):\n",
    "    return x**m * c\n",
    "params, covar = curve_fit(func_powerlaw, famine[\"Death per Year\"], famine[\"Frequency\"], maxfev=100000)\n",
    "params"
   ]
  },
  {
   "cell_type": "code",
   "execution_count": 14,
   "id": "9d7b10e8",
   "metadata": {},
   "outputs": [
    {
     "data": {
      "image/png": "[encoded data removed]",
      "text/plain": [
       "<Figure size 432x288 with 1 Axes>"
      ]
     },
     "metadata": {
      "needs_background": "light"
     },
     "output_type": "display_data"
    }
   ],
   "source": [
    "# Plot the power law\n",
    "x_sim = np.linspace(10000,10000000)\n",
    "y_sim = func_powerlaw(x_sim, params[0], params[1])\n",
    "fig = plt.figure()\n",
    "ax = fig.add_subplot(2, 1, 1)\n",
    "ax.plot(x_sim, y_sim, label=\"sim\")\n",
    "ax.plot(famine[\"Death per Year\"], famine[\"Frequency\"], label=\"real\")\n",
    "ax.legend()\n",
    "ax.set_xscale(\"log\")\n",
    "ax.set_yscale(\"log\")"
   ]
  },
  {
   "cell_type": "markdown",
   "id": "5b689753",
   "metadata": {},
   "source": [
    "However, when we include a constant c0, we get a better fit, but we also predict frequencies below 0, which does not make much sense. "
   ]
  },
  {
   "cell_type": "code",
   "execution_count": 15,
   "id": "d6d5ec5a",
   "metadata": {},
   "outputs": [],
   "source": [
    "# Fit data to power law\n",
    "def func_powerlaw(x, m, c, c0):\n",
    "    return c0 + x**m * c\n",
    "params, covar = curve_fit(func_powerlaw, famine[\"Death per Year\"], famine[\"Frequency\"], maxfev=100000)"
   ]
  },
  {
   "cell_type": "code",
   "execution_count": 16,
   "id": "07322fc4",
   "metadata": {},
   "outputs": [
    {
     "data": {
      "image/png": "[encoded data removed]",
      "text/plain": [
       "<Figure size 432x288 with 1 Axes>"
      ]
     },
     "metadata": {
      "needs_background": "light"
     },
     "output_type": "display_data"
    }
   ],
   "source": [
    "# Plot the power law\n",
    "x_sim = np.linspace(10000,10000000)\n",
    "y_sim = func_powerlaw(x_sim, params[0], params[1], params[2])\n",
    "fig = plt.figure()\n",
    "ax = fig.add_subplot(2, 1, 1)\n",
    "ax.plot(x_sim, y_sim, label=\"sim\")\n",
    "ax.plot(famine[\"Death per Year\"], famine[\"Frequency\"], label=\"real\")\n",
    "#ax.set_ylim([0,1])\n",
    "ax.legend()\n",
    "ax.set_xscale(\"log\")\n",
    "ax.set_yscale(\"log\")"
   ]
  },
  {
   "cell_type": "markdown",
   "id": "14f103f6",
   "metadata": {},
   "source": [
    "## Fitting with lognormal"
   ]
  },
  {
   "cell_type": "code",
   "execution_count": 17,
   "id": "ae49456b",
   "metadata": {},
   "outputs": [
    {
     "name": "stderr",
     "output_type": "stream",
     "text": [
      "/home/florian/local/anaconda3/lib/python3.9/site-packages/scipy/optimize/minpack.py:833: OptimizeWarning: Covariance of the parameters could not be estimated\n",
      "  warnings.warn('Covariance of the parameters could not be estimated',\n"
     ]
    },
    {
     "data": {
      "image/png": "[encoded data removed]",
      "text/plain": [
       "<Figure size 432x288 with 1 Axes>"
      ]
     },
     "metadata": {
      "needs_background": "light"
     },
     "output_type": "display_data"
    }
   ],
   "source": [
    "# Fit data to lognormal\n",
    "def lognormal(x,upsilon,epsilon):\n",
    "    numerator=np.exp(-np.power((np.log(x)-upsilon),2)/(2*epsilon**2))\n",
    "    denominator=x*np.sqrt(2*np.pi*epsilon**2)\n",
    "    return numerator/denominator\n",
    "params, covar = curve_fit(lognormal, famine[\"Death per Year\"], famine[\"Frequency\"], maxfev=1000000)\n",
    "# Plot \n",
    "x_sim = np.linspace(10000,10000000)\n",
    "y_sim = lognormal(x_sim, params[0], params[1])\n",
    "fig = plt.figure()\n",
    "ax = fig.add_subplot(2, 1, 1)\n",
    "ax.plot(x_sim, y_sim, label=\"sim\")\n",
    "ax.plot(famine[\"Death per Year\"], famine[\"Frequency\"], label=\"real\")\n",
    "ax.legend()\n",
    "ax.set_xscale(\"log\")\n",
    "ax.set_yscale(\"log\")"
   ]
  },
  {
   "cell_type": "markdown",
   "id": "4d04b1b5",
   "metadata": {},
   "source": [
    "## Fitting with exponential decay"
   ]
  },
  {
   "cell_type": "code",
   "execution_count": 18,
   "id": "bcb1ff1f",
   "metadata": {},
   "outputs": [
    {
     "name": "stderr",
     "output_type": "stream",
     "text": [
      "/home/florian/local/anaconda3/lib/python3.9/site-packages/scipy/optimize/minpack.py:833: OptimizeWarning: Covariance of the parameters could not be estimated\n",
      "  warnings.warn('Covariance of the parameters could not be estimated',\n"
     ]
    },
    {
     "data": {
      "image/png": "[encoded data removed]",
      "text/plain": [
       "<Figure size 432x288 with 1 Axes>"
      ]
     },
     "metadata": {
      "needs_background": "light"
     },
     "output_type": "display_data"
    }
   ],
   "source": [
    "def monoExp(x, m, t, b):\n",
    "    return m * np.exp(-t * x) + b\n",
    "params, covar = curve_fit(monoExp, famine[\"Death per Year\"], famine[\"Frequency\"], maxfev=1000000)\n",
    "# Plot \n",
    "x_sim = np.linspace(10000,10000000)\n",
    "y_sim = monoExp(x_sim, params[0], params[1], params[2])\n",
    "fig = plt.figure()\n",
    "ax = fig.add_subplot(2, 1, 1)\n",
    "ax.plot(x_sim, y_sim, label=\"sim\")\n",
    "ax.plot(famine[\"Death per Year\"], famine[\"Frequency\"], label=\"real\")\n",
    "ax.legend()\n",
    "ax.set_xscale(\"log\")\n",
    "ax.set_yscale(\"log\")"
   ]
  }
 ],
 "metadata": {
  "kernelspec": {
   "display_name": "Python 3 (ipykernel)",
   "language": "python",
   "name": "python3"
  },
  "language_info": {
   "codemirror_mode": {
    "name": "ipython",
    "version": 3
   },
   "file_extension": ".py",
   "mimetype": "text/x-python",
   "name": "python",
   "nbconvert_exporter": "python",
   "pygments_lexer": "ipython3",
   "version": "3.9.7"
  }
 },
 "nbformat": 4,
 "nbformat_minor": 5
}
