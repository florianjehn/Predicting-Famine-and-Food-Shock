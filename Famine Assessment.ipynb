{
 "cells": [
  {
   "cell_type": "markdown",
   "id": "a2d7b4aa",
   "metadata": {},
   "source": [
    "# Data Source\n",
    "* [Famine](https://web.archive.org/web/20170802193952/http://fletcher.tufts.edu/World-Peace-Foundation/Program/Research/Mass-Atrocities-Research-Program/Mass-Famine#Dataset)"
   ]
  },
  {
   "cell_type": "markdown",
   "id": "1304e0b2",
   "metadata": {},
   "source": [
    "# Data Preparation"
   ]
  },
  {
   "cell_type": "code",
   "execution_count": 1,
   "id": "fa6c3f79",
   "metadata": {},
   "outputs": [],
   "source": [
    "# Get all necessary packages\n",
    "import pandas as pd\n",
    "import os\n",
    "import scipy.stats as stats\n",
    "from scipy.optimize import curve_fit\n",
    "import matplotlib.pyplot as plt\n",
    "import numpy as np"
   ]
  },
  {
   "cell_type": "code",
   "execution_count": 2,
   "id": "ef720fd2",
   "metadata": {},
   "outputs": [
    {
     "data": {
      "text/html": [
       "<div>\n",
       "<style scoped>\n",
       "    .dataframe tbody tr th:only-of-type {\n",
       "        vertical-align: middle;\n",
       "    }\n",
       "\n",
       "    .dataframe tbody tr th {\n",
       "        vertical-align: top;\n",
       "    }\n",
       "\n",
       "    .dataframe thead th {\n",
       "        text-align: right;\n",
       "    }\n",
       "</style>\n",
       "<table border=\"1\" class=\"dataframe\">\n",
       "  <thead>\n",
       "    <tr style=\"text-align: right;\">\n",
       "      <th></th>\n",
       "      <th>Date Range</th>\n",
       "      <th>Start Year</th>\n",
       "      <th>End Year</th>\n",
       "      <th>Duration</th>\n",
       "      <th>Country</th>\n",
       "      <th>Cause</th>\n",
       "      <th>Range Death</th>\n",
       "      <th>Mean Death</th>\n",
       "      <th>Death per Year</th>\n",
       "      <th>Source</th>\n",
       "    </tr>\n",
       "  </thead>\n",
       "  <tbody>\n",
       "    <tr>\n",
       "      <th>0</th>\n",
       "      <td>1870-71</td>\n",
       "      <td>1870</td>\n",
       "      <td>1871</td>\n",
       "      <td>NaN</td>\n",
       "      <td>Persia</td>\n",
       "      <td>Economic crisis, drought</td>\n",
       "      <td>500,000-1.5 million</td>\n",
       "      <td>1000000</td>\n",
       "      <td>NaN</td>\n",
       "      <td>Foran 1989, Okasaki 1986</td>\n",
       "    </tr>\n",
       "    <tr>\n",
       "      <th>1</th>\n",
       "      <td>1876-1879</td>\n",
       "      <td>1876</td>\n",
       "      <td>1879</td>\n",
       "      <td>NaN</td>\n",
       "      <td>China (Shanxi, Henan, Shandong, Zhili, and Sha...</td>\n",
       "      <td>Drought, lack of state capacity due to rebelli...</td>\n",
       "      <td>9m</td>\n",
       "      <td>9000000</td>\n",
       "      <td>NaN</td>\n",
       "      <td>Edgerton-Tarpley, 2008; Fuller, 2015; Davis, 2...</td>\n",
       "    </tr>\n",
       "    <tr>\n",
       "      <th>2</th>\n",
       "      <td>1870s</td>\n",
       "      <td>1870</td>\n",
       "      <td>1879</td>\n",
       "      <td>NaN</td>\n",
       "      <td>India</td>\n",
       "      <td>Drought, colonialism</td>\n",
       "      <td>6m</td>\n",
       "      <td>6000000</td>\n",
       "      <td>NaN</td>\n",
       "      <td>Davis, 2002</td>\n",
       "    </tr>\n",
       "    <tr>\n",
       "      <th>3</th>\n",
       "      <td>1876-79</td>\n",
       "      <td>1876</td>\n",
       "      <td>1876</td>\n",
       "      <td>NaN</td>\n",
       "      <td>Brazil</td>\n",
       "      <td>Drought, economic crisis</td>\n",
       "      <td>500000</td>\n",
       "      <td>500000</td>\n",
       "      <td>NaN</td>\n",
       "      <td>Cunniff, 1970</td>\n",
       "    </tr>\n",
       "    <tr>\n",
       "      <th>4</th>\n",
       "      <td>1885-99</td>\n",
       "      <td>1885</td>\n",
       "      <td>1899</td>\n",
       "      <td>NaN</td>\n",
       "      <td>Congo</td>\n",
       "      <td>Colonialism, forced labor</td>\n",
       "      <td>3m</td>\n",
       "      <td>3000000</td>\n",
       "      <td>NaN</td>\n",
       "      <td>Hochschild, 1998; Acherson 1999</td>\n",
       "    </tr>\n",
       "  </tbody>\n",
       "</table>\n",
       "</div>"
      ],
      "text/plain": [
       "  Date Range  Start Year  End Year  Duration  \\\n",
       "0    1870-71        1870      1871       NaN   \n",
       "1  1876-1879        1876      1879       NaN   \n",
       "2      1870s        1870      1879       NaN   \n",
       "3    1876-79        1876      1876       NaN   \n",
       "4    1885-99        1885      1899       NaN   \n",
       "\n",
       "                                             Country  \\\n",
       "0                                             Persia   \n",
       "1  China (Shanxi, Henan, Shandong, Zhili, and Sha...   \n",
       "2                                              India   \n",
       "3                                             Brazil   \n",
       "4                                              Congo   \n",
       "\n",
       "                                               Cause          Range Death  \\\n",
       "0                           Economic crisis, drought  500,000-1.5 million   \n",
       "1  Drought, lack of state capacity due to rebelli...                   9m   \n",
       "2                               Drought, colonialism                   6m   \n",
       "3                           Drought, economic crisis               500000   \n",
       "4                          Colonialism, forced labor                   3m   \n",
       "\n",
       "   Mean Death  Death per Year  \\\n",
       "0     1000000             NaN   \n",
       "1     9000000             NaN   \n",
       "2     6000000             NaN   \n",
       "3      500000             NaN   \n",
       "4     3000000             NaN   \n",
       "\n",
       "                                              Source  \n",
       "0                           Foran 1989, Okasaki 1986  \n",
       "1  Edgerton-Tarpley, 2008; Fuller, 2015; Davis, 2...  \n",
       "2                                        Davis, 2002  \n",
       "3                                      Cunniff, 1970  \n",
       "4                    Hochschild, 1998; Acherson 1999  "
      ]
     },
     "execution_count": 2,
     "metadata": {},
     "output_type": "execute_result"
    }
   ],
   "source": [
    "# Read in and check file\n",
    "famine = pd.read_csv(\"data\" + os.sep + \"famine\" + os.sep + \"famine.csv\", sep = \",\")\n",
    "famine.head()"
   ]
  },
  {
   "cell_type": "code",
   "execution_count": 3,
   "id": "35a098f0",
   "metadata": {},
   "outputs": [
    {
     "data": {
      "text/html": [
       "<div>\n",
       "<style scoped>\n",
       "    .dataframe tbody tr th:only-of-type {\n",
       "        vertical-align: middle;\n",
       "    }\n",
       "\n",
       "    .dataframe tbody tr th {\n",
       "        vertical-align: top;\n",
       "    }\n",
       "\n",
       "    .dataframe thead th {\n",
       "        text-align: right;\n",
       "    }\n",
       "</style>\n",
       "<table border=\"1\" class=\"dataframe\">\n",
       "  <thead>\n",
       "    <tr style=\"text-align: right;\">\n",
       "      <th></th>\n",
       "      <th>Date Range</th>\n",
       "      <th>Start Year</th>\n",
       "      <th>End Year</th>\n",
       "      <th>Duration</th>\n",
       "      <th>Country</th>\n",
       "      <th>Cause</th>\n",
       "      <th>Range Death</th>\n",
       "      <th>Mean Death</th>\n",
       "      <th>Death per Year</th>\n",
       "      <th>Source</th>\n",
       "    </tr>\n",
       "  </thead>\n",
       "  <tbody>\n",
       "    <tr>\n",
       "      <th>0</th>\n",
       "      <td>1870-71</td>\n",
       "      <td>1870</td>\n",
       "      <td>1871</td>\n",
       "      <td>2</td>\n",
       "      <td>Persia</td>\n",
       "      <td>Economic crisis, drought</td>\n",
       "      <td>500,000-1.5 million</td>\n",
       "      <td>1000000</td>\n",
       "      <td>NaN</td>\n",
       "      <td>Foran 1989, Okasaki 1986</td>\n",
       "    </tr>\n",
       "    <tr>\n",
       "      <th>1</th>\n",
       "      <td>1876-1879</td>\n",
       "      <td>1876</td>\n",
       "      <td>1879</td>\n",
       "      <td>4</td>\n",
       "      <td>China (Shanxi, Henan, Shandong, Zhili, and Sha...</td>\n",
       "      <td>Drought, lack of state capacity due to rebelli...</td>\n",
       "      <td>9m</td>\n",
       "      <td>9000000</td>\n",
       "      <td>NaN</td>\n",
       "      <td>Edgerton-Tarpley, 2008; Fuller, 2015; Davis, 2...</td>\n",
       "    </tr>\n",
       "    <tr>\n",
       "      <th>2</th>\n",
       "      <td>1870s</td>\n",
       "      <td>1870</td>\n",
       "      <td>1879</td>\n",
       "      <td>10</td>\n",
       "      <td>India</td>\n",
       "      <td>Drought, colonialism</td>\n",
       "      <td>6m</td>\n",
       "      <td>6000000</td>\n",
       "      <td>NaN</td>\n",
       "      <td>Davis, 2002</td>\n",
       "    </tr>\n",
       "    <tr>\n",
       "      <th>3</th>\n",
       "      <td>1876-79</td>\n",
       "      <td>1876</td>\n",
       "      <td>1876</td>\n",
       "      <td>1</td>\n",
       "      <td>Brazil</td>\n",
       "      <td>Drought, economic crisis</td>\n",
       "      <td>500000</td>\n",
       "      <td>500000</td>\n",
       "      <td>NaN</td>\n",
       "      <td>Cunniff, 1970</td>\n",
       "    </tr>\n",
       "    <tr>\n",
       "      <th>4</th>\n",
       "      <td>1885-99</td>\n",
       "      <td>1885</td>\n",
       "      <td>1899</td>\n",
       "      <td>15</td>\n",
       "      <td>Congo</td>\n",
       "      <td>Colonialism, forced labor</td>\n",
       "      <td>3m</td>\n",
       "      <td>3000000</td>\n",
       "      <td>NaN</td>\n",
       "      <td>Hochschild, 1998; Acherson 1999</td>\n",
       "    </tr>\n",
       "  </tbody>\n",
       "</table>\n",
       "</div>"
      ],
      "text/plain": [
       "  Date Range  Start Year  End Year  Duration  \\\n",
       "0    1870-71        1870      1871         2   \n",
       "1  1876-1879        1876      1879         4   \n",
       "2      1870s        1870      1879        10   \n",
       "3    1876-79        1876      1876         1   \n",
       "4    1885-99        1885      1899        15   \n",
       "\n",
       "                                             Country  \\\n",
       "0                                             Persia   \n",
       "1  China (Shanxi, Henan, Shandong, Zhili, and Sha...   \n",
       "2                                              India   \n",
       "3                                             Brazil   \n",
       "4                                              Congo   \n",
       "\n",
       "                                               Cause          Range Death  \\\n",
       "0                           Economic crisis, drought  500,000-1.5 million   \n",
       "1  Drought, lack of state capacity due to rebelli...                   9m   \n",
       "2                               Drought, colonialism                   6m   \n",
       "3                           Drought, economic crisis               500000   \n",
       "4                          Colonialism, forced labor                   3m   \n",
       "\n",
       "   Mean Death  Death per Year  \\\n",
       "0     1000000             NaN   \n",
       "1     9000000             NaN   \n",
       "2     6000000             NaN   \n",
       "3      500000             NaN   \n",
       "4     3000000             NaN   \n",
       "\n",
       "                                              Source  \n",
       "0                           Foran 1989, Okasaki 1986  \n",
       "1  Edgerton-Tarpley, 2008; Fuller, 2015; Davis, 2...  \n",
       "2                                        Davis, 2002  \n",
       "3                                      Cunniff, 1970  \n",
       "4                    Hochschild, 1998; Acherson 1999  "
      ]
     },
     "execution_count": 3,
     "metadata": {},
     "output_type": "execute_result"
    }
   ],
   "source": [
    "# Calculate duration \n",
    "# Add one to avoid duration of 0\n",
    "famine[\"Duration\"] = (famine[\"End Year\"]+1) - famine[\"Start Year\"]\n",
    "famine.head()"
   ]
  },
  {
   "cell_type": "code",
   "execution_count": 4,
   "id": "9504c164",
   "metadata": {},
   "outputs": [
    {
     "data": {
      "text/html": [
       "<div>\n",
       "<style scoped>\n",
       "    .dataframe tbody tr th:only-of-type {\n",
       "        vertical-align: middle;\n",
       "    }\n",
       "\n",
       "    .dataframe tbody tr th {\n",
       "        vertical-align: top;\n",
       "    }\n",
       "\n",
       "    .dataframe thead th {\n",
       "        text-align: right;\n",
       "    }\n",
       "</style>\n",
       "<table border=\"1\" class=\"dataframe\">\n",
       "  <thead>\n",
       "    <tr style=\"text-align: right;\">\n",
       "      <th></th>\n",
       "      <th>Date Range</th>\n",
       "      <th>Start Year</th>\n",
       "      <th>End Year</th>\n",
       "      <th>Duration</th>\n",
       "      <th>Country</th>\n",
       "      <th>Cause</th>\n",
       "      <th>Range Death</th>\n",
       "      <th>Mean Death</th>\n",
       "      <th>Death per Year</th>\n",
       "      <th>Source</th>\n",
       "    </tr>\n",
       "  </thead>\n",
       "  <tbody>\n",
       "    <tr>\n",
       "      <th>0</th>\n",
       "      <td>1870-71</td>\n",
       "      <td>1870</td>\n",
       "      <td>1871</td>\n",
       "      <td>2</td>\n",
       "      <td>Persia</td>\n",
       "      <td>Economic crisis, drought</td>\n",
       "      <td>500,000-1.5 million</td>\n",
       "      <td>1000000</td>\n",
       "      <td>500000.0</td>\n",
       "      <td>Foran 1989, Okasaki 1986</td>\n",
       "    </tr>\n",
       "    <tr>\n",
       "      <th>1</th>\n",
       "      <td>1876-1879</td>\n",
       "      <td>1876</td>\n",
       "      <td>1879</td>\n",
       "      <td>4</td>\n",
       "      <td>China (Shanxi, Henan, Shandong, Zhili, and Sha...</td>\n",
       "      <td>Drought, lack of state capacity due to rebelli...</td>\n",
       "      <td>9m</td>\n",
       "      <td>9000000</td>\n",
       "      <td>2250000.0</td>\n",
       "      <td>Edgerton-Tarpley, 2008; Fuller, 2015; Davis, 2...</td>\n",
       "    </tr>\n",
       "    <tr>\n",
       "      <th>2</th>\n",
       "      <td>1870s</td>\n",
       "      <td>1870</td>\n",
       "      <td>1879</td>\n",
       "      <td>10</td>\n",
       "      <td>India</td>\n",
       "      <td>Drought, colonialism</td>\n",
       "      <td>6m</td>\n",
       "      <td>6000000</td>\n",
       "      <td>600000.0</td>\n",
       "      <td>Davis, 2002</td>\n",
       "    </tr>\n",
       "    <tr>\n",
       "      <th>3</th>\n",
       "      <td>1876-79</td>\n",
       "      <td>1876</td>\n",
       "      <td>1876</td>\n",
       "      <td>1</td>\n",
       "      <td>Brazil</td>\n",
       "      <td>Drought, economic crisis</td>\n",
       "      <td>500000</td>\n",
       "      <td>500000</td>\n",
       "      <td>500000.0</td>\n",
       "      <td>Cunniff, 1970</td>\n",
       "    </tr>\n",
       "    <tr>\n",
       "      <th>4</th>\n",
       "      <td>1885-99</td>\n",
       "      <td>1885</td>\n",
       "      <td>1899</td>\n",
       "      <td>15</td>\n",
       "      <td>Congo</td>\n",
       "      <td>Colonialism, forced labor</td>\n",
       "      <td>3m</td>\n",
       "      <td>3000000</td>\n",
       "      <td>200000.0</td>\n",
       "      <td>Hochschild, 1998; Acherson 1999</td>\n",
       "    </tr>\n",
       "  </tbody>\n",
       "</table>\n",
       "</div>"
      ],
      "text/plain": [
       "  Date Range  Start Year  End Year  Duration  \\\n",
       "0    1870-71        1870      1871         2   \n",
       "1  1876-1879        1876      1879         4   \n",
       "2      1870s        1870      1879        10   \n",
       "3    1876-79        1876      1876         1   \n",
       "4    1885-99        1885      1899        15   \n",
       "\n",
       "                                             Country  \\\n",
       "0                                             Persia   \n",
       "1  China (Shanxi, Henan, Shandong, Zhili, and Sha...   \n",
       "2                                              India   \n",
       "3                                             Brazil   \n",
       "4                                              Congo   \n",
       "\n",
       "                                               Cause          Range Death  \\\n",
       "0                           Economic crisis, drought  500,000-1.5 million   \n",
       "1  Drought, lack of state capacity due to rebelli...                   9m   \n",
       "2                               Drought, colonialism                   6m   \n",
       "3                           Drought, economic crisis               500000   \n",
       "4                          Colonialism, forced labor                   3m   \n",
       "\n",
       "   Mean Death  Death per Year  \\\n",
       "0     1000000        500000.0   \n",
       "1     9000000       2250000.0   \n",
       "2     6000000        600000.0   \n",
       "3      500000        500000.0   \n",
       "4     3000000        200000.0   \n",
       "\n",
       "                                              Source  \n",
       "0                           Foran 1989, Okasaki 1986  \n",
       "1  Edgerton-Tarpley, 2008; Fuller, 2015; Davis, 2...  \n",
       "2                                        Davis, 2002  \n",
       "3                                      Cunniff, 1970  \n",
       "4                    Hochschild, 1998; Acherson 1999  "
      ]
     },
     "execution_count": 4,
     "metadata": {},
     "output_type": "execute_result"
    }
   ],
   "source": [
    "# Calculate death per year\n",
    "famine[\"Death per Year\"] = famine[\"Mean Death\"] / famine[\"Duration\"]\n",
    "famine.head()"
   ]
  },
  {
   "cell_type": "code",
   "execution_count": 20,
   "id": "0c163fa4",
   "metadata": {},
   "outputs": [
    {
     "data": {
      "text/plain": [
       "Text(0.5, 0, 'Death per year')"
      ]
     },
     "execution_count": 20,
     "metadata": {},
     "output_type": "execute_result"
    },
    {
     "data": {
      "image/png": "[encoded data removed]",
      "text/plain": [
       "<Figure size 432x288 with 1 Axes>"
      ]
     },
     "metadata": {
      "needs_background": "light"
     },
     "output_type": "display_data"
    }
   ],
   "source": [
    "# Plot death per year\n",
    "ax = famine[\"Death per Year\"].sort_values(ascending=False).plot(kind=\"hist\", bins= 10)\n",
    "ax.set_title(\"Death toll per year for all recorded famines\")\n",
    "ax.set_ylabel(\"Count\")\n",
    "ax.set_xlabel(\"Death per year\")"
   ]
  },
  {
   "cell_type": "markdown",
   "id": "3f876688",
   "metadata": {},
   "source": [
    "# Prepare for fitting"
   ]
  },
  {
   "cell_type": "code",
   "execution_count": 6,
   "id": "8d0caaff",
   "metadata": {},
   "outputs": [
    {
     "data": {
      "text/plain": [
       "[<matplotlib.lines.Line2D at 0x7f3f1f5f6550>]"
      ]
     },
     "execution_count": 6,
     "metadata": {},
     "output_type": "execute_result"
    },
    {
     "data": {
      "image/png": "[encoded data removed]",
      "text/plain": [
       "<Figure size 432x288 with 1 Axes>"
      ]
     },
     "metadata": {
      "needs_background": "light"
     },
     "output_type": "display_data"
    }
   ],
   "source": [
    "# Bin the data\n",
    "density, death_per_year = np.histogram(famine[\"Death per Year\"], bins = len(famine.index), density=True)\n",
    "# adjust the denisty to the bin width (https://stackoverflow.com/questions/21532667/numpy-histogram-cumulative-density-does-not-sum-to-1)\n",
    "density = density*np.diff(death_per_year)\n",
    "# calculate the bin means\n",
    "death_per_year = np.array([0.5 * (death_per_year[i] + death_per_year[i+1]) for i in range(len(death_per_year)-1)])\n",
    "# plot\n",
    "plt.plot(death_per_year, density)"
   ]
  },
  {
   "cell_type": "markdown",
   "id": "4dd6a56d",
   "metadata": {},
   "source": [
    "# Fit to Power Law"
   ]
  },
  {
   "cell_type": "code",
   "execution_count": 7,
   "id": "fcbef253",
   "metadata": {},
   "outputs": [
    {
     "data": {
      "text/plain": [
       "array([-1.57879647])"
      ]
     },
     "execution_count": 7,
     "metadata": {},
     "output_type": "execute_result"
    }
   ],
   "source": [
    "# Fit data to power law\n",
    "def powerlaw(x,exponent):\n",
    "    return (x**exponent)/np.min(x)**exponent\n",
    "params, covar = curve_fit(powerlaw, death_per_year, density)\n",
    "params"
   ]
  },
  {
   "cell_type": "code",
   "execution_count": 8,
   "id": "79463827",
   "metadata": {},
   "outputs": [
    {
     "data": {
      "image/png": "[encoded data removed]",
      "text/plain": [
       "<Figure size 432x288 with 1 Axes>"
      ]
     },
     "metadata": {
      "needs_background": "light"
     },
     "output_type": "display_data"
    }
   ],
   "source": [
    "# Plot the power law\n",
    "x_sim = np.linspace(1,10000000)\n",
    "y_sim = powerlaw(x_sim, params[0])\n",
    "fig = plt.figure()\n",
    "ax = fig.add_subplot(2, 1, 1)\n",
    "ax.plot(x_sim, y_sim)\n",
    "ax.set_xscale(\"log\")"
   ]
  },
  {
   "cell_type": "code",
   "execution_count": 9,
   "id": "f1b57d10",
   "metadata": {},
   "outputs": [
    {
     "name": "stdout",
     "output_type": "stream",
     "text": [
      "Dead: 1\n",
      "Prob of this many dead: 1.0\n",
      "Dead: 10\n",
      "Prob of this many dead: 0.02637567197512913\n",
      "Dead: 100\n",
      "Prob of this many dead: 0.0006956760721396122\n",
      "Dead: 1000\n",
      "Prob of this many dead: 1.834892387970068e-05\n",
      "Dead: 10000\n",
      "Prob of this many dead: 4.839651973475989e-07\n",
      "Dead: 100000\n",
      "Prob of this many dead: 1.2764907292618904e-08\n",
      "Dead: 1000000\n",
      "Prob of this many dead: 3.366830075430499e-10\n",
      "Dead: 10000000\n",
      "Prob of this many dead: 8.880240566555412e-12\n",
      "Dead: 100000000\n",
      "Prob of this many dead: 2.342223122437004e-13\n"
     ]
    }
   ],
   "source": [
    "# Probability of death by famine\n",
    "amount_dead = np.array([1,10,100,1000,10000,100000,1000000,10000000,100000000])\n",
    "probs = powerlaw([amount_dead],params[0])\n",
    "for i in range(len(amount_dead)):\n",
    "    print(\"Dead: \" + (str(amount_dead[i])))\n",
    "    print(\"Prob of this many dead: \" + str(probs[0][i]))"
   ]
  },
  {
   "cell_type": "markdown",
   "id": "a220f44f",
   "metadata": {},
   "source": [
    "# Fit to lognormal"
   ]
  },
  {
   "cell_type": "code",
   "execution_count": 10,
   "id": "d922a35a",
   "metadata": {},
   "outputs": [
    {
     "data": {
      "text/plain": [
       "array([1., 1.])"
      ]
     },
     "execution_count": 10,
     "metadata": {},
     "output_type": "execute_result"
    }
   ],
   "source": [
    "# Fit data to lognormal\n",
    "def lognormal(x,upsilon,epsilon):\n",
    "    numerator=np.exp(-np.power((np.log(x)-upsilon),2)/(2*epsilon**2))\n",
    "    denominator=x*np.sqrt(2*np.pi*epsilon**2)\n",
    "    return numerator/denominator\n",
    "params, covar = curve_fit(lognormal, death_per_year, density)\n",
    "params"
   ]
  },
  {
   "cell_type": "code",
   "execution_count": 11,
   "id": "870dc563",
   "metadata": {},
   "outputs": [
    {
     "data": {
      "image/png": "[encoded data removed]",
      "text/plain": [
       "<Figure size 432x288 with 1 Axes>"
      ]
     },
     "metadata": {
      "needs_background": "light"
     },
     "output_type": "display_data"
    }
   ],
   "source": [
    "# Plot the lognormal\n",
    "x_sim = np.linspace(1,10000000)\n",
    "y_sim = lognormal(x_sim, params[0], params[1])\n",
    "fig = plt.figure()\n",
    "ax = fig.add_subplot(2, 1, 1)\n",
    "ax.plot(x_sim, y_sim)\n",
    "ax.set_xscale(\"log\")"
   ]
  },
  {
   "cell_type": "code",
   "execution_count": 12,
   "id": "64849261",
   "metadata": {},
   "outputs": [
    {
     "name": "stdout",
     "output_type": "stream",
     "text": [
      "Dead: 1\n",
      "Prob of this many dead: 0.24197072451914337\n",
      "Dead: 10\n",
      "Prob of this many dead: 0.01707930831120357\n",
      "Dead: 100\n",
      "Prob of this many dead: 6.006101107306473e-06\n",
      "Dead: 1000\n",
      "Prob of this many dead: 1.0522765842835267e-11\n",
      "Dead: 10000\n",
      "Prob of this many dead: 9.185061761818969e-20\n",
      "Dead: 100000\n",
      "Prob of this many dead: 3.994378012615924e-30\n",
      "Dead: 1000000\n",
      "Prob of this many dead: 8.654284159840767e-43\n",
      "Dead: 10000000\n",
      "Prob of this many dead: 9.341745823045648e-58\n",
      "Dead: 100000000\n",
      "Prob of this many dead: 5.023886845089719e-75\n"
     ]
    }
   ],
   "source": [
    "# Probability of death by famine\n",
    "amount_dead = np.array([1,10,100,1000,10000,100000,1000000,10000000,100000000])\n",
    "probs = [lognormal(i,params[0], params[1]) for i in amount_dead]\n",
    "for i in range(len(amount_dead)):\n",
    "    print(\"Dead: \" + (str(amount_dead[i])))\n",
    "    print(\"Prob of this many dead: \" + str(probs[i]))"
   ]
  },
  {
   "cell_type": "markdown",
   "id": "7f101223",
   "metadata": {},
   "source": [
    "# Recurence interval"
   ]
  },
  {
   "cell_type": "code",
   "execution_count": 22,
   "id": "4d847d97",
   "metadata": {},
   "outputs": [
    {
     "data": {
      "text/plain": [
       "array([ 262475.,  766425., 1270375., 1774325., 2278275., 2782225.,\n",
       "       3286175., 3790125., 4294075., 4798025.])"
      ]
     },
     "execution_count": 22,
     "metadata": {},
     "output_type": "execute_result"
    }
   ],
   "source": [
    "# Bin the data\n",
    "occurence, death_per_year = np.histogram(famine[\"Death per Year\"], bins = 10)\n",
    "# calculate the bin means\n",
    "death_per_year = np.array([0.5 * (death_per_year[i] + death_per_year[i+1]) for i in range(len(death_per_year)-1)])\n",
    "death_per_year"
   ]
  },
  {
   "cell_type": "code",
   "execution_count": 30,
   "id": "56de6dbf",
   "metadata": {},
   "outputs": [
    {
     "data": {
      "text/html": [
       "<div>\n",
       "<style scoped>\n",
       "    .dataframe tbody tr th:only-of-type {\n",
       "        vertical-align: middle;\n",
       "    }\n",
       "\n",
       "    .dataframe tbody tr th {\n",
       "        vertical-align: top;\n",
       "    }\n",
       "\n",
       "    .dataframe thead th {\n",
       "        text-align: right;\n",
       "    }\n",
       "</style>\n",
       "<table border=\"1\" class=\"dataframe\">\n",
       "  <thead>\n",
       "    <tr style=\"text-align: right;\">\n",
       "      <th></th>\n",
       "      <th>Death per Year</th>\n",
       "      <th>Start Year</th>\n",
       "    </tr>\n",
       "  </thead>\n",
       "  <tbody>\n",
       "    <tr>\n",
       "      <th>0</th>\n",
       "      <td>5.000000e+05</td>\n",
       "      <td>1870</td>\n",
       "    </tr>\n",
       "    <tr>\n",
       "      <th>1</th>\n",
       "      <td>2.250000e+06</td>\n",
       "      <td>1876</td>\n",
       "    </tr>\n",
       "    <tr>\n",
       "      <th>2</th>\n",
       "      <td>6.000000e+05</td>\n",
       "      <td>1870</td>\n",
       "    </tr>\n",
       "    <tr>\n",
       "      <th>3</th>\n",
       "      <td>5.000000e+05</td>\n",
       "      <td>1876</td>\n",
       "    </tr>\n",
       "    <tr>\n",
       "      <th>4</th>\n",
       "      <td>2.000000e+05</td>\n",
       "      <td>1885</td>\n",
       "    </tr>\n",
       "    <tr>\n",
       "      <th>...</th>\n",
       "      <td>...</td>\n",
       "      <td>...</td>\n",
       "    </tr>\n",
       "    <tr>\n",
       "      <th>62</th>\n",
       "      <td>5.690000e+05</td>\n",
       "      <td>1998</td>\n",
       "    </tr>\n",
       "    <tr>\n",
       "      <th>63</th>\n",
       "      <td>5.000000e+04</td>\n",
       "      <td>1998</td>\n",
       "    </tr>\n",
       "    <tr>\n",
       "      <th>64</th>\n",
       "      <td>6.666667e+04</td>\n",
       "      <td>2003</td>\n",
       "    </tr>\n",
       "    <tr>\n",
       "      <th>65</th>\n",
       "      <td>2.500000e+04</td>\n",
       "      <td>2003</td>\n",
       "    </tr>\n",
       "    <tr>\n",
       "      <th>66</th>\n",
       "      <td>1.640000e+05</td>\n",
       "      <td>2011</td>\n",
       "    </tr>\n",
       "  </tbody>\n",
       "</table>\n",
       "<p>67 rows × 2 columns</p>\n",
       "</div>"
      ],
      "text/plain": [
       "    Death per Year  Start Year\n",
       "0     5.000000e+05        1870\n",
       "1     2.250000e+06        1876\n",
       "2     6.000000e+05        1870\n",
       "3     5.000000e+05        1876\n",
       "4     2.000000e+05        1885\n",
       "..             ...         ...\n",
       "62    5.690000e+05        1998\n",
       "63    5.000000e+04        1998\n",
       "64    6.666667e+04        2003\n",
       "65    2.500000e+04        2003\n",
       "66    1.640000e+05        2011\n",
       "\n",
       "[67 rows x 2 columns]"
      ]
     },
     "execution_count": 30,
     "metadata": {},
     "output_type": "execute_result"
    }
   ],
   "source": [
    "famine_recur = famine[[\"Death per Year\", \"Start Year\"]]\n",
    "famine_recur"
   ]
  },
  {
   "cell_type": "code",
   "execution_count": 32,
   "id": "1259589f",
   "metadata": {},
   "outputs": [
    {
     "name": "stderr",
     "output_type": "stream",
     "text": [
      "/tmp/ipykernel_28297/1376980485.py:1: SettingWithCopyWarning: \n",
      "A value is trying to be set on a copy of a slice from a DataFrame.\n",
      "Try using .loc[row_indexer,col_indexer] = value instead\n",
      "\n",
      "See the caveats in the documentation: https://pandas.pydata.org/pandas-docs/stable/user_guide/indexing.html#returning-a-view-versus-a-copy\n",
      "  famine_recur[\"Death_binned\"] = pd.cut(x=famine_recur[\"Death per Year\"], bins=10)\n"
     ]
    },
    {
     "data": {
      "text/html": [
       "<div>\n",
       "<style scoped>\n",
       "    .dataframe tbody tr th:only-of-type {\n",
       "        vertical-align: middle;\n",
       "    }\n",
       "\n",
       "    .dataframe tbody tr th {\n",
       "        vertical-align: top;\n",
       "    }\n",
       "\n",
       "    .dataframe thead th {\n",
       "        text-align: right;\n",
       "    }\n",
       "</style>\n",
       "<table border=\"1\" class=\"dataframe\">\n",
       "  <thead>\n",
       "    <tr style=\"text-align: right;\">\n",
       "      <th></th>\n",
       "      <th>Death per Year</th>\n",
       "      <th>Start Year</th>\n",
       "      <th>Death_binned</th>\n",
       "    </tr>\n",
       "  </thead>\n",
       "  <tbody>\n",
       "    <tr>\n",
       "      <th>0</th>\n",
       "      <td>5.000000e+05</td>\n",
       "      <td>1870</td>\n",
       "      <td>(5460.5, 514450.0]</td>\n",
       "    </tr>\n",
       "    <tr>\n",
       "      <th>1</th>\n",
       "      <td>2.250000e+06</td>\n",
       "      <td>1876</td>\n",
       "      <td>(2026300.0, 2530250.0]</td>\n",
       "    </tr>\n",
       "    <tr>\n",
       "      <th>2</th>\n",
       "      <td>6.000000e+05</td>\n",
       "      <td>1870</td>\n",
       "      <td>(514450.0, 1018400.0]</td>\n",
       "    </tr>\n",
       "    <tr>\n",
       "      <th>3</th>\n",
       "      <td>5.000000e+05</td>\n",
       "      <td>1876</td>\n",
       "      <td>(5460.5, 514450.0]</td>\n",
       "    </tr>\n",
       "    <tr>\n",
       "      <th>4</th>\n",
       "      <td>2.000000e+05</td>\n",
       "      <td>1885</td>\n",
       "      <td>(5460.5, 514450.0]</td>\n",
       "    </tr>\n",
       "    <tr>\n",
       "      <th>...</th>\n",
       "      <td>...</td>\n",
       "      <td>...</td>\n",
       "      <td>...</td>\n",
       "    </tr>\n",
       "    <tr>\n",
       "      <th>62</th>\n",
       "      <td>5.690000e+05</td>\n",
       "      <td>1998</td>\n",
       "      <td>(514450.0, 1018400.0]</td>\n",
       "    </tr>\n",
       "    <tr>\n",
       "      <th>63</th>\n",
       "      <td>5.000000e+04</td>\n",
       "      <td>1998</td>\n",
       "      <td>(5460.5, 514450.0]</td>\n",
       "    </tr>\n",
       "    <tr>\n",
       "      <th>64</th>\n",
       "      <td>6.666667e+04</td>\n",
       "      <td>2003</td>\n",
       "      <td>(5460.5, 514450.0]</td>\n",
       "    </tr>\n",
       "    <tr>\n",
       "      <th>65</th>\n",
       "      <td>2.500000e+04</td>\n",
       "      <td>2003</td>\n",
       "      <td>(5460.5, 514450.0]</td>\n",
       "    </tr>\n",
       "    <tr>\n",
       "      <th>66</th>\n",
       "      <td>1.640000e+05</td>\n",
       "      <td>2011</td>\n",
       "      <td>(5460.5, 514450.0]</td>\n",
       "    </tr>\n",
       "  </tbody>\n",
       "</table>\n",
       "<p>67 rows × 3 columns</p>\n",
       "</div>"
      ],
      "text/plain": [
       "    Death per Year  Start Year            Death_binned\n",
       "0     5.000000e+05        1870      (5460.5, 514450.0]\n",
       "1     2.250000e+06        1876  (2026300.0, 2530250.0]\n",
       "2     6.000000e+05        1870   (514450.0, 1018400.0]\n",
       "3     5.000000e+05        1876      (5460.5, 514450.0]\n",
       "4     2.000000e+05        1885      (5460.5, 514450.0]\n",
       "..             ...         ...                     ...\n",
       "62    5.690000e+05        1998   (514450.0, 1018400.0]\n",
       "63    5.000000e+04        1998      (5460.5, 514450.0]\n",
       "64    6.666667e+04        2003      (5460.5, 514450.0]\n",
       "65    2.500000e+04        2003      (5460.5, 514450.0]\n",
       "66    1.640000e+05        2011      (5460.5, 514450.0]\n",
       "\n",
       "[67 rows x 3 columns]"
      ]
     },
     "execution_count": 32,
     "metadata": {},
     "output_type": "execute_result"
    }
   ],
   "source": [
    "# Put it into categories to be able to calculate recurance rate\n",
    "famine_recur[\"Death_binned\"] = pd.cut(x=famine_recur[\"Death per Year\"], bins=10)\n",
    "famine_recur"
   ]
  },
  {
   "cell_type": "code",
   "execution_count": 37,
   "id": "370c298d",
   "metadata": {},
   "outputs": [
    {
     "data": {
      "text/html": [
       "<div>\n",
       "<style scoped>\n",
       "    .dataframe tbody tr th:only-of-type {\n",
       "        vertical-align: middle;\n",
       "    }\n",
       "\n",
       "    .dataframe tbody tr th {\n",
       "        vertical-align: top;\n",
       "    }\n",
       "\n",
       "    .dataframe thead th {\n",
       "        text-align: right;\n",
       "    }\n",
       "</style>\n",
       "<table border=\"1\" class=\"dataframe\">\n",
       "  <thead>\n",
       "    <tr style=\"text-align: right;\">\n",
       "      <th></th>\n",
       "      <th>Death per Year</th>\n",
       "      <th>Start Year</th>\n",
       "      <th>Death_binned</th>\n",
       "    </tr>\n",
       "  </thead>\n",
       "  <tbody>\n",
       "    <tr>\n",
       "      <th>0</th>\n",
       "      <td>5.000000e+05</td>\n",
       "      <td>1870</td>\n",
       "      <td>(5460.5, 514450.0]</td>\n",
       "    </tr>\n",
       "    <tr>\n",
       "      <th>2</th>\n",
       "      <td>6.000000e+05</td>\n",
       "      <td>1870</td>\n",
       "      <td>(514450.0, 1018400.0]</td>\n",
       "    </tr>\n",
       "    <tr>\n",
       "      <th>1</th>\n",
       "      <td>2.250000e+06</td>\n",
       "      <td>1876</td>\n",
       "      <td>(2026300.0, 2530250.0]</td>\n",
       "    </tr>\n",
       "    <tr>\n",
       "      <th>3</th>\n",
       "      <td>5.000000e+05</td>\n",
       "      <td>1876</td>\n",
       "      <td>(5460.5, 514450.0]</td>\n",
       "    </tr>\n",
       "    <tr>\n",
       "      <th>4</th>\n",
       "      <td>2.000000e+05</td>\n",
       "      <td>1885</td>\n",
       "      <td>(5460.5, 514450.0]</td>\n",
       "    </tr>\n",
       "    <tr>\n",
       "      <th>...</th>\n",
       "      <td>...</td>\n",
       "      <td>...</td>\n",
       "      <td>...</td>\n",
       "    </tr>\n",
       "    <tr>\n",
       "      <th>62</th>\n",
       "      <td>5.690000e+05</td>\n",
       "      <td>1998</td>\n",
       "      <td>(514450.0, 1018400.0]</td>\n",
       "    </tr>\n",
       "    <tr>\n",
       "      <th>63</th>\n",
       "      <td>5.000000e+04</td>\n",
       "      <td>1998</td>\n",
       "      <td>(5460.5, 514450.0]</td>\n",
       "    </tr>\n",
       "    <tr>\n",
       "      <th>64</th>\n",
       "      <td>6.666667e+04</td>\n",
       "      <td>2003</td>\n",
       "      <td>(5460.5, 514450.0]</td>\n",
       "    </tr>\n",
       "    <tr>\n",
       "      <th>65</th>\n",
       "      <td>2.500000e+04</td>\n",
       "      <td>2003</td>\n",
       "      <td>(5460.5, 514450.0]</td>\n",
       "    </tr>\n",
       "    <tr>\n",
       "      <th>66</th>\n",
       "      <td>1.640000e+05</td>\n",
       "      <td>2011</td>\n",
       "      <td>(5460.5, 514450.0]</td>\n",
       "    </tr>\n",
       "  </tbody>\n",
       "</table>\n",
       "<p>67 rows × 3 columns</p>\n",
       "</div>"
      ],
      "text/plain": [
       "    Death per Year  Start Year            Death_binned\n",
       "0     5.000000e+05        1870      (5460.5, 514450.0]\n",
       "2     6.000000e+05        1870   (514450.0, 1018400.0]\n",
       "1     2.250000e+06        1876  (2026300.0, 2530250.0]\n",
       "3     5.000000e+05        1876      (5460.5, 514450.0]\n",
       "4     2.000000e+05        1885      (5460.5, 514450.0]\n",
       "..             ...         ...                     ...\n",
       "62    5.690000e+05        1998   (514450.0, 1018400.0]\n",
       "63    5.000000e+04        1998      (5460.5, 514450.0]\n",
       "64    6.666667e+04        2003      (5460.5, 514450.0]\n",
       "65    2.500000e+04        2003      (5460.5, 514450.0]\n",
       "66    1.640000e+05        2011      (5460.5, 514450.0]\n",
       "\n",
       "[67 rows x 3 columns]"
      ]
     },
     "execution_count": 37,
     "metadata": {},
     "output_type": "execute_result"
    }
   ],
   "source": [
    "# Sort it\n",
    "famine_recur = famine_recur.sort_values(\"Start Year\")\n",
    "famine_recur"
   ]
  },
  {
   "cell_type": "code",
   "execution_count": 48,
   "id": "c2badb45",
   "metadata": {},
   "outputs": [
    {
     "data": {
      "text/plain": [
       "0      NaN\n",
       "3      6.0\n",
       "4      9.0\n",
       "5      3.0\n",
       "6      0.0\n",
       "7      0.0\n",
       "8      3.0\n",
       "11     5.0\n",
       "10     1.0\n",
       "12     2.0\n",
       "13     0.0\n",
       "14     5.0\n",
       "15     1.0\n",
       "16     1.0\n",
       "17     7.0\n",
       "18     1.0\n",
       "19     1.0\n",
       "20     0.0\n",
       "21     2.0\n",
       "22     0.0\n",
       "23     2.0\n",
       "24     1.0\n",
       "28    10.0\n",
       "30     2.0\n",
       "39     9.0\n",
       "33     0.0\n",
       "36     0.0\n",
       "35     0.0\n",
       "34     0.0\n",
       "37     0.0\n",
       "42     2.0\n",
       "44     2.0\n",
       "46    13.0\n",
       "48     8.0\n",
       "49     3.0\n",
       "50     1.0\n",
       "51     2.0\n",
       "52     1.0\n",
       "54     2.0\n",
       "55     0.0\n",
       "56     8.0\n",
       "57     1.0\n",
       "58     4.0\n",
       "60     3.0\n",
       "59     1.0\n",
       "61     3.0\n",
       "63     3.0\n",
       "64     5.0\n",
       "65     0.0\n",
       "66     8.0\n",
       "Name: Start Year, dtype: float64"
      ]
     },
     "execution_count": 48,
     "metadata": {},
     "output_type": "execute_result"
    }
   ],
   "source": [
    "categories = famine_recur[\"Death_binned\"].unique()\n",
    "# for saving the dataframes\n",
    "temp = []\n",
    "#for cat in categories:\n",
    "test= famine_recur.loc[famine_recur[\"Death_binned\"] == categories[0],:]\n",
    "#categories[0]\n",
    "#famine_recur.iloc[0,2] == categories[0]\n",
    "test[\"Start Year\"].diff()"
   ]
  },
  {
   "cell_type": "code",
   "execution_count": 65,
   "id": "92814667",
   "metadata": {},
   "outputs": [
    {
     "data": {
      "text/plain": [
       "<NA>"
      ]
     },
     "execution_count": 65,
     "metadata": {},
     "output_type": "execute_result"
    }
   ],
   "source": [
    "famine_recur[\"Recurrence\"]=famine_recur.groupby(\"Death_binned\").diff(periods=1)[\"Start Year\"]\n",
    "famine_recur[\"Recurrence\"][0] == pd.NA"
   ]
  },
  {
   "cell_type": "code",
   "execution_count": 83,
   "id": "94d9b3b1",
   "metadata": {},
   "outputs": [
    {
     "data": {
      "text/plain": [
       "<AxesSubplot:>"
      ]
     },
     "execution_count": 83,
     "metadata": {},
     "output_type": "execute_result"
    },
    {
     "data": {
      "image/png": "[encoded data removed]",
      "text/plain": [
       "<Figure size 432x288 with 1 Axes>"
      ]
     },
     "metadata": {
      "needs_background": "light"
     },
     "output_type": "display_data"
    }
   ],
   "source": [
    "test = famine[\"Death per Year\"].sort_values(ascending=False)\n",
    "test.reset_index(drop=True, inplace=True)\n",
    "test.cumsum().plot()"
   ]
  },
  {
   "cell_type": "code",
   "execution_count": 84,
   "id": "ca6e1f54",
   "metadata": {},
   "outputs": [
    {
     "data": {
      "text/plain": [
       "array([0.        , 0.01515152, 0.03030303, 0.04545455, 0.06060606,\n",
       "       0.07575758, 0.09090909, 0.10606061, 0.12121212, 0.13636364,\n",
       "       0.15151515, 0.16666667, 0.18181818, 0.1969697 , 0.21212121,\n",
       "       0.22727273, 0.24242424, 0.25757576, 0.27272727, 0.28787879,\n",
       "       0.3030303 , 0.31818182, 0.33333333, 0.34848485, 0.36363636,\n",
       "       0.37878788, 0.39393939, 0.40909091, 0.42424242, 0.43939394,\n",
       "       0.45454545, 0.46969697, 0.48484848, 0.5       , 0.51515152,\n",
       "       0.53030303, 0.54545455, 0.56060606, 0.57575758, 0.59090909,\n",
       "       0.60606061, 0.62121212, 0.63636364, 0.65151515, 0.66666667,\n",
       "       0.68181818, 0.6969697 , 0.71212121, 0.72727273, 0.74242424,\n",
       "       0.75757576, 0.77272727, 0.78787879, 0.8030303 , 0.81818182,\n",
       "       0.83333333, 0.84848485, 0.86363636, 0.87878788, 0.89393939,\n",
       "       0.90909091, 0.92424242, 0.93939394, 0.95454545, 0.96969697,\n",
       "       0.98484848, 1.        ])"
      ]
     },
     "execution_count": 84,
     "metadata": {},
     "output_type": "execute_result"
    }
   ],
   "source": [
    "p = 1. * np.arange(len(test)) / (len(test)-1)\n",
    "p\n",
    "#https://stackoverflow.com/questions/24788200/calculate-the-cumulative-distribution-function-cdf-in-python"
   ]
  },
  {
   "cell_type": "code",
   "execution_count": null,
   "id": "fd8a722c",
   "metadata": {},
   "outputs": [],
   "source": []
  },
  {
   "cell_type": "code",
   "execution_count": 101,
   "id": "e459f56e",
   "metadata": {},
   "outputs": [
    {
     "ename": "ValueError",
     "evalue": "x and y must have same first dimension, but have shapes (69, 3) and (67,)",
     "output_type": "error",
     "traceback": [
      "\u001b[0;31m---------------------------------------------------------------------------\u001b[0m",
      "\u001b[0;31mValueError\u001b[0m                                Traceback (most recent call last)",
      "\u001b[0;32m/tmp/ipykernel_28297/267957667.py\u001b[0m in \u001b[0;36m<module>\u001b[0;34m\u001b[0m\n\u001b[1;32m      3\u001b[0m \u001b[0;34m\u001b[0m\u001b[0m\n\u001b[1;32m      4\u001b[0m \u001b[0max2\u001b[0m \u001b[0;34m=\u001b[0m \u001b[0mfig\u001b[0m\u001b[0;34m.\u001b[0m\u001b[0madd_subplot\u001b[0m\u001b[0;34m(\u001b[0m\u001b[0;36m122\u001b[0m\u001b[0;34m)\u001b[0m\u001b[0;34m\u001b[0m\u001b[0;34m\u001b[0m\u001b[0m\n\u001b[0;32m----> 5\u001b[0;31m \u001b[0max2\u001b[0m\u001b[0;34m.\u001b[0m\u001b[0mplot\u001b[0m\u001b[0;34m(\u001b[0m\u001b[0mtest\u001b[0m\u001b[0;34m,\u001b[0m \u001b[0mp\u001b[0m\u001b[0;34m)\u001b[0m\u001b[0;34m\u001b[0m\u001b[0;34m\u001b[0m\u001b[0m\n\u001b[0m\u001b[1;32m      6\u001b[0m \u001b[0max2\u001b[0m\u001b[0;34m.\u001b[0m\u001b[0mset_xlabel\u001b[0m\u001b[0;34m(\u001b[0m\u001b[0;34m'Death per Year'\u001b[0m\u001b[0;34m)\u001b[0m\u001b[0;34m\u001b[0m\u001b[0;34m\u001b[0m\u001b[0m\n\u001b[1;32m      7\u001b[0m \u001b[0max2\u001b[0m\u001b[0;34m.\u001b[0m\u001b[0mset_ylabel\u001b[0m\u001b[0;34m(\u001b[0m\u001b[0;34m'Proportion'\u001b[0m\u001b[0;34m)\u001b[0m\u001b[0;34m\u001b[0m\u001b[0;34m\u001b[0m\u001b[0m\n",
      "\u001b[0;32m~/local/anaconda3/lib/python3.9/site-packages/matplotlib/axes/_axes.py\u001b[0m in \u001b[0;36mplot\u001b[0;34m(self, scalex, scaley, data, *args, **kwargs)\u001b[0m\n\u001b[1;32m   1603\u001b[0m         \"\"\"\n\u001b[1;32m   1604\u001b[0m         \u001b[0mkwargs\u001b[0m \u001b[0;34m=\u001b[0m \u001b[0mcbook\u001b[0m\u001b[0;34m.\u001b[0m\u001b[0mnormalize_kwargs\u001b[0m\u001b[0;34m(\u001b[0m\u001b[0mkwargs\u001b[0m\u001b[0;34m,\u001b[0m \u001b[0mmlines\u001b[0m\u001b[0;34m.\u001b[0m\u001b[0mLine2D\u001b[0m\u001b[0;34m)\u001b[0m\u001b[0;34m\u001b[0m\u001b[0;34m\u001b[0m\u001b[0m\n\u001b[0;32m-> 1605\u001b[0;31m         \u001b[0mlines\u001b[0m \u001b[0;34m=\u001b[0m \u001b[0;34m[\u001b[0m\u001b[0;34m*\u001b[0m\u001b[0mself\u001b[0m\u001b[0;34m.\u001b[0m\u001b[0m_get_lines\u001b[0m\u001b[0;34m(\u001b[0m\u001b[0;34m*\u001b[0m\u001b[0margs\u001b[0m\u001b[0;34m,\u001b[0m \u001b[0mdata\u001b[0m\u001b[0;34m=\u001b[0m\u001b[0mdata\u001b[0m\u001b[0;34m,\u001b[0m \u001b[0;34m**\u001b[0m\u001b[0mkwargs\u001b[0m\u001b[0;34m)\u001b[0m\u001b[0;34m]\u001b[0m\u001b[0;34m\u001b[0m\u001b[0;34m\u001b[0m\u001b[0m\n\u001b[0m\u001b[1;32m   1606\u001b[0m         \u001b[0;32mfor\u001b[0m \u001b[0mline\u001b[0m \u001b[0;32min\u001b[0m \u001b[0mlines\u001b[0m\u001b[0;34m:\u001b[0m\u001b[0;34m\u001b[0m\u001b[0;34m\u001b[0m\u001b[0m\n\u001b[1;32m   1607\u001b[0m             \u001b[0mself\u001b[0m\u001b[0;34m.\u001b[0m\u001b[0madd_line\u001b[0m\u001b[0;34m(\u001b[0m\u001b[0mline\u001b[0m\u001b[0;34m)\u001b[0m\u001b[0;34m\u001b[0m\u001b[0;34m\u001b[0m\u001b[0m\n",
      "\u001b[0;32m~/local/anaconda3/lib/python3.9/site-packages/matplotlib/axes/_base.py\u001b[0m in \u001b[0;36m__call__\u001b[0;34m(self, data, *args, **kwargs)\u001b[0m\n\u001b[1;32m    313\u001b[0m                 \u001b[0mthis\u001b[0m \u001b[0;34m+=\u001b[0m \u001b[0margs\u001b[0m\u001b[0;34m[\u001b[0m\u001b[0;36m0\u001b[0m\u001b[0;34m]\u001b[0m\u001b[0;34m,\u001b[0m\u001b[0;34m\u001b[0m\u001b[0;34m\u001b[0m\u001b[0m\n\u001b[1;32m    314\u001b[0m                 \u001b[0margs\u001b[0m \u001b[0;34m=\u001b[0m \u001b[0margs\u001b[0m\u001b[0;34m[\u001b[0m\u001b[0;36m1\u001b[0m\u001b[0;34m:\u001b[0m\u001b[0;34m]\u001b[0m\u001b[0;34m\u001b[0m\u001b[0;34m\u001b[0m\u001b[0m\n\u001b[0;32m--> 315\u001b[0;31m             \u001b[0;32myield\u001b[0m \u001b[0;32mfrom\u001b[0m \u001b[0mself\u001b[0m\u001b[0;34m.\u001b[0m\u001b[0m_plot_args\u001b[0m\u001b[0;34m(\u001b[0m\u001b[0mthis\u001b[0m\u001b[0;34m,\u001b[0m \u001b[0mkwargs\u001b[0m\u001b[0;34m)\u001b[0m\u001b[0;34m\u001b[0m\u001b[0;34m\u001b[0m\u001b[0m\n\u001b[0m\u001b[1;32m    316\u001b[0m \u001b[0;34m\u001b[0m\u001b[0m\n\u001b[1;32m    317\u001b[0m     \u001b[0;32mdef\u001b[0m \u001b[0mget_next_color\u001b[0m\u001b[0;34m(\u001b[0m\u001b[0mself\u001b[0m\u001b[0;34m)\u001b[0m\u001b[0;34m:\u001b[0m\u001b[0;34m\u001b[0m\u001b[0;34m\u001b[0m\u001b[0m\n",
      "\u001b[0;32m~/local/anaconda3/lib/python3.9/site-packages/matplotlib/axes/_base.py\u001b[0m in \u001b[0;36m_plot_args\u001b[0;34m(self, tup, kwargs, return_kwargs)\u001b[0m\n\u001b[1;32m    499\u001b[0m \u001b[0;34m\u001b[0m\u001b[0m\n\u001b[1;32m    500\u001b[0m         \u001b[0;32mif\u001b[0m \u001b[0mx\u001b[0m\u001b[0;34m.\u001b[0m\u001b[0mshape\u001b[0m\u001b[0;34m[\u001b[0m\u001b[0;36m0\u001b[0m\u001b[0;34m]\u001b[0m \u001b[0;34m!=\u001b[0m \u001b[0my\u001b[0m\u001b[0;34m.\u001b[0m\u001b[0mshape\u001b[0m\u001b[0;34m[\u001b[0m\u001b[0;36m0\u001b[0m\u001b[0;34m]\u001b[0m\u001b[0;34m:\u001b[0m\u001b[0;34m\u001b[0m\u001b[0;34m\u001b[0m\u001b[0m\n\u001b[0;32m--> 501\u001b[0;31m             raise ValueError(f\"x and y must have same first dimension, but \"\n\u001b[0m\u001b[1;32m    502\u001b[0m                              f\"have shapes {x.shape} and {y.shape}\")\n\u001b[1;32m    503\u001b[0m         \u001b[0;32mif\u001b[0m \u001b[0mx\u001b[0m\u001b[0;34m.\u001b[0m\u001b[0mndim\u001b[0m \u001b[0;34m>\u001b[0m \u001b[0;36m2\u001b[0m \u001b[0;32mor\u001b[0m \u001b[0my\u001b[0m\u001b[0;34m.\u001b[0m\u001b[0mndim\u001b[0m \u001b[0;34m>\u001b[0m \u001b[0;36m2\u001b[0m\u001b[0;34m:\u001b[0m\u001b[0;34m\u001b[0m\u001b[0;34m\u001b[0m\u001b[0m\n",
      "\u001b[0;31mValueError\u001b[0m: x and y must have same first dimension, but have shapes (69, 3) and (67,)"
     ]
    },
    {
     "data": {
      "image/png": "[encoded data removed]",
      "text/plain": [
       "<Figure size 432x288 with 1 Axes>"
      ]
     },
     "metadata": {
      "needs_background": "light"
     },
     "output_type": "display_data"
    }
   ],
   "source": [
    "# plot the sorted data:\n",
    "fig = plt.figure()\n",
    "\n",
    "ax2 = fig.add_subplot(122)\n",
    "ax2.plot(test, p)\n",
    "ax2.set_xlabel('Death per Year')\n",
    "ax2.set_ylabel('Proportion')\n",
    "fig.tight_layout()"
   ]
  },
  {
   "cell_type": "code",
   "execution_count": 93,
   "id": "96bb6756",
   "metadata": {},
   "outputs": [
    {
     "data": {
      "text/plain": [
       "[<matplotlib.lines.Line2D at 0x7f3f1dc7feb0>]"
      ]
     },
     "execution_count": 93,
     "metadata": {},
     "output_type": "execute_result"
    },
    {
     "data": {
      "image/png": "[encoded data removed]",
      "text/plain": [
       "<Figure size 432x288 with 1 Axes>"
      ]
     },
     "metadata": {
      "needs_background": "light"
     },
     "output_type": "display_data"
    }
   ],
   "source": [
    "complete_timeline = 141\n",
    "test = pd.DataFrame(test)\n",
    "test[\"time\"] = 1/complete_timeline\n",
    "test[\"cs_time\"] = np.cumsum(test[\"time\"])\n",
    "plt.plot(test[\"Death per Year\"], test[\"cs_time\"])"
   ]
  },
  {
   "cell_type": "code",
   "execution_count": 103,
   "id": "7dfd92fa",
   "metadata": {},
   "outputs": [
    {
     "data": {
      "text/plain": [
       "array([-0.08216459])"
      ]
     },
     "execution_count": 103,
     "metadata": {},
     "output_type": "execute_result"
    }
   ],
   "source": [
    "# Fit data to power law\n",
    "def powerlaw(x,exponent):\n",
    "    return (x**exponent)/np.min(x)**exponent\n",
    "params, covar = curve_fit(powerlaw, test[\"Death per Year\"], test[\"cs_time\"])\n",
    "params\n"
   ]
  },
  {
   "cell_type": "code",
   "execution_count": 108,
   "id": "9d7b10e8",
   "metadata": {},
   "outputs": [
    {
     "data": {
      "text/plain": [
       "[<matplotlib.lines.Line2D at 0x7f3f1ce693a0>]"
      ]
     },
     "execution_count": 108,
     "metadata": {},
     "output_type": "execute_result"
    },
    {
     "data": {
      "image/png": "[encoded data removed]",
      "text/plain": [
       "<Figure size 432x288 with 1 Axes>"
      ]
     },
     "metadata": {
      "needs_background": "light"
     },
     "output_type": "display_data"
    }
   ],
   "source": [
    "# Plot the power law\n",
    "x_sim = np.linspace(1,10000000)\n",
    "y_sim = powerlaw(x_sim, params[0])\n",
    "fig = plt.figure()\n",
    "ax = fig.add_subplot(2, 1, 1)\n",
    "ax.plot(x_sim, y_sim, label=\"sim\")\n",
    "ax.plot(test[\"Death per Year\"], test[\"cs_time\"], label=\"real\")\n",
    "#ax.set_xscale(\"log\")"
   ]
  },
  {
   "cell_type": "code",
   "execution_count": 105,
   "id": "dd1a36fb",
   "metadata": {},
   "outputs": [
    {
     "name": "stdout",
     "output_type": "stream",
     "text": [
      "Dead: 1\n",
      "Prob of this many dead: 1.0\n",
      "Dead: 10\n",
      "Prob of this many dead: 0.8276284513352935\n",
      "Dead: 100\n",
      "Prob of this many dead: 0.6849688534596562\n",
      "Dead: 1000\n",
      "Prob of this many dead: 0.5668997114017268\n",
      "Dead: 10000\n",
      "Prob of this many dead: 0.46918233020983596\n",
      "Dead: 100000\n",
      "Prob of this many dead: 0.3883086453454508\n",
      "Dead: 1000000\n",
      "Prob of this many dead: 0.32137528278736116\n",
      "Dead: 10000000\n",
      "Prob of this many dead: 0.2659793275907457\n",
      "Dead: 100000000\n",
      "Prob of this many dead: 0.22013205898113156\n",
      "Dead: 1000000000\n",
      "Prob of this many dead: 0.18218755506380338\n"
     ]
    }
   ],
   "source": [
    "# Probability of death by famine\n",
    "amount_dead = np.array([1,10,100,1000,10000,100000,1000000,10000000,100000000,1000000000])\n",
    "probs = powerlaw([amount_dead],params[0])\n",
    "for i in range(len(amount_dead)):\n",
    "    print(\"Dead: \" + (str(amount_dead[i])))\n",
    "    print(\"Prob of this many dead: \" + str(probs[0][i]))"
   ]
  }
 ],
 "metadata": {
  "kernelspec": {
   "display_name": "Python 3 (ipykernel)",
   "language": "python",
   "name": "python3"
  },
  "language_info": {
   "codemirror_mode": {
    "name": "ipython",
    "version": 3
   },
   "file_extension": ".py",
   "mimetype": "text/x-python",
   "name": "python",
   "nbconvert_exporter": "python",
   "pygments_lexer": "ipython3",
   "version": "3.9.7"
  }
 },
 "nbformat": 4,
 "nbformat_minor": 5
}
