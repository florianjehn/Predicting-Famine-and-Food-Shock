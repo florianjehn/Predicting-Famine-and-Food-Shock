{
 "cells": [
  {
   "cell_type": "markdown",
   "id": "7e8635a8",
   "metadata": {},
   "source": [
    "# Data Source\n",
    "* [Food Production](https://www.fao.org/faostat/en/#data/QCL)"
   ]
  },
  {
   "cell_type": "markdown",
   "id": "7d8620ae",
   "metadata": {},
   "source": [
    "# Data Preparation"
   ]
  },
  {
   "cell_type": "code",
   "execution_count": 22,
   "id": "232a6183",
   "metadata": {},
   "outputs": [],
   "source": [
    "# Get all necessary packages\n",
    "import pandas as pd\n",
    "import os\n",
    "import scipy.stats as stats\n",
    "from scipy.optimize import curve_fit\n",
    "import matplotlib.pyplot as plt\n",
    "import numpy as np"
   ]
  },
  {
   "cell_type": "code",
   "execution_count": 23,
   "id": "cd7607f1",
   "metadata": {},
   "outputs": [
    {
     "data": {
      "text/html": [
       "<div>\n",
       "<style scoped>\n",
       "    .dataframe tbody tr th:only-of-type {\n",
       "        vertical-align: middle;\n",
       "    }\n",
       "\n",
       "    .dataframe tbody tr th {\n",
       "        vertical-align: top;\n",
       "    }\n",
       "\n",
       "    .dataframe thead th {\n",
       "        text-align: right;\n",
       "    }\n",
       "</style>\n",
       "<table border=\"1\" class=\"dataframe\">\n",
       "  <thead>\n",
       "    <tr style=\"text-align: right;\">\n",
       "      <th></th>\n",
       "      <th>Area Code</th>\n",
       "      <th>Area</th>\n",
       "      <th>Item Code</th>\n",
       "      <th>Item</th>\n",
       "      <th>Element Code</th>\n",
       "      <th>Element</th>\n",
       "      <th>Unit</th>\n",
       "      <th>Y1961</th>\n",
       "      <th>Y1962</th>\n",
       "      <th>Y1963</th>\n",
       "      <th>...</th>\n",
       "      <th>Y2011</th>\n",
       "      <th>Y2012</th>\n",
       "      <th>Y2013</th>\n",
       "      <th>Y2014</th>\n",
       "      <th>Y2015</th>\n",
       "      <th>Y2016</th>\n",
       "      <th>Y2017</th>\n",
       "      <th>Y2018</th>\n",
       "      <th>Y2019</th>\n",
       "      <th>Y2020</th>\n",
       "    </tr>\n",
       "  </thead>\n",
       "  <tbody>\n",
       "    <tr>\n",
       "      <th>0</th>\n",
       "      <td>2</td>\n",
       "      <td>Afghanistan</td>\n",
       "      <td>221</td>\n",
       "      <td>Almonds, with shell</td>\n",
       "      <td>5312</td>\n",
       "      <td>Area harvested</td>\n",
       "      <td>ha</td>\n",
       "      <td>NaN</td>\n",
       "      <td>NaN</td>\n",
       "      <td>NaN</td>\n",
       "      <td>...</td>\n",
       "      <td>13469.0</td>\n",
       "      <td>13490.0</td>\n",
       "      <td>14114.0</td>\n",
       "      <td>13703.0</td>\n",
       "      <td>14676.0</td>\n",
       "      <td>19481.0</td>\n",
       "      <td>19793.0</td>\n",
       "      <td>20053.0</td>\n",
       "      <td>29203.0</td>\n",
       "      <td>22134.0</td>\n",
       "    </tr>\n",
       "    <tr>\n",
       "      <th>1</th>\n",
       "      <td>2</td>\n",
       "      <td>Afghanistan</td>\n",
       "      <td>221</td>\n",
       "      <td>Almonds, with shell</td>\n",
       "      <td>5419</td>\n",
       "      <td>Yield</td>\n",
       "      <td>hg/ha</td>\n",
       "      <td>NaN</td>\n",
       "      <td>NaN</td>\n",
       "      <td>NaN</td>\n",
       "      <td>...</td>\n",
       "      <td>45000.0</td>\n",
       "      <td>45960.0</td>\n",
       "      <td>29910.0</td>\n",
       "      <td>19996.0</td>\n",
       "      <td>16521.0</td>\n",
       "      <td>16859.0</td>\n",
       "      <td>13788.0</td>\n",
       "      <td>17161.0</td>\n",
       "      <td>13083.0</td>\n",
       "      <td>17759.0</td>\n",
       "    </tr>\n",
       "    <tr>\n",
       "      <th>2</th>\n",
       "      <td>2</td>\n",
       "      <td>Afghanistan</td>\n",
       "      <td>221</td>\n",
       "      <td>Almonds, with shell</td>\n",
       "      <td>5510</td>\n",
       "      <td>Production</td>\n",
       "      <td>tonnes</td>\n",
       "      <td>NaN</td>\n",
       "      <td>NaN</td>\n",
       "      <td>NaN</td>\n",
       "      <td>...</td>\n",
       "      <td>60611.0</td>\n",
       "      <td>62000.0</td>\n",
       "      <td>42215.0</td>\n",
       "      <td>27400.0</td>\n",
       "      <td>24246.0</td>\n",
       "      <td>32843.0</td>\n",
       "      <td>27291.0</td>\n",
       "      <td>34413.0</td>\n",
       "      <td>38205.0</td>\n",
       "      <td>39307.0</td>\n",
       "    </tr>\n",
       "    <tr>\n",
       "      <th>3</th>\n",
       "      <td>2</td>\n",
       "      <td>Afghanistan</td>\n",
       "      <td>711</td>\n",
       "      <td>Anise, badian, fennel, coriander</td>\n",
       "      <td>5312</td>\n",
       "      <td>Area harvested</td>\n",
       "      <td>ha</td>\n",
       "      <td>NaN</td>\n",
       "      <td>NaN</td>\n",
       "      <td>NaN</td>\n",
       "      <td>...</td>\n",
       "      <td>19500.0</td>\n",
       "      <td>18500.0</td>\n",
       "      <td>18500.0</td>\n",
       "      <td>30000.0</td>\n",
       "      <td>25000.0</td>\n",
       "      <td>24500.0</td>\n",
       "      <td>26500.0</td>\n",
       "      <td>25333.0</td>\n",
       "      <td>25444.0</td>\n",
       "      <td>25759.0</td>\n",
       "    </tr>\n",
       "    <tr>\n",
       "      <th>4</th>\n",
       "      <td>2</td>\n",
       "      <td>Afghanistan</td>\n",
       "      <td>711</td>\n",
       "      <td>Anise, badian, fennel, coriander</td>\n",
       "      <td>5419</td>\n",
       "      <td>Yield</td>\n",
       "      <td>hg/ha</td>\n",
       "      <td>NaN</td>\n",
       "      <td>NaN</td>\n",
       "      <td>NaN</td>\n",
       "      <td>...</td>\n",
       "      <td>6414.0</td>\n",
       "      <td>6757.0</td>\n",
       "      <td>6757.0</td>\n",
       "      <td>7167.0</td>\n",
       "      <td>7200.0</td>\n",
       "      <td>7075.0</td>\n",
       "      <td>7149.0</td>\n",
       "      <td>7142.0</td>\n",
       "      <td>7123.0</td>\n",
       "      <td>7138.0</td>\n",
       "    </tr>\n",
       "  </tbody>\n",
       "</table>\n",
       "<p>5 rows × 67 columns</p>\n",
       "</div>"
      ],
      "text/plain": [
       "   Area Code         Area  Item Code                              Item  \\\n",
       "0          2  Afghanistan        221               Almonds, with shell   \n",
       "1          2  Afghanistan        221               Almonds, with shell   \n",
       "2          2  Afghanistan        221               Almonds, with shell   \n",
       "3          2  Afghanistan        711  Anise, badian, fennel, coriander   \n",
       "4          2  Afghanistan        711  Anise, badian, fennel, coriander   \n",
       "\n",
       "   Element Code         Element    Unit  Y1961  Y1962  Y1963  ...    Y2011  \\\n",
       "0          5312  Area harvested      ha    NaN    NaN    NaN  ...  13469.0   \n",
       "1          5419           Yield   hg/ha    NaN    NaN    NaN  ...  45000.0   \n",
       "2          5510      Production  tonnes    NaN    NaN    NaN  ...  60611.0   \n",
       "3          5312  Area harvested      ha    NaN    NaN    NaN  ...  19500.0   \n",
       "4          5419           Yield   hg/ha    NaN    NaN    NaN  ...   6414.0   \n",
       "\n",
       "     Y2012    Y2013    Y2014    Y2015    Y2016    Y2017    Y2018    Y2019  \\\n",
       "0  13490.0  14114.0  13703.0  14676.0  19481.0  19793.0  20053.0  29203.0   \n",
       "1  45960.0  29910.0  19996.0  16521.0  16859.0  13788.0  17161.0  13083.0   \n",
       "2  62000.0  42215.0  27400.0  24246.0  32843.0  27291.0  34413.0  38205.0   \n",
       "3  18500.0  18500.0  30000.0  25000.0  24500.0  26500.0  25333.0  25444.0   \n",
       "4   6757.0   6757.0   7167.0   7200.0   7075.0   7149.0   7142.0   7123.0   \n",
       "\n",
       "     Y2020  \n",
       "0  22134.0  \n",
       "1  17759.0  \n",
       "2  39307.0  \n",
       "3  25759.0  \n",
       "4   7138.0  \n",
       "\n",
       "[5 rows x 67 columns]"
      ]
     },
     "execution_count": 23,
     "metadata": {},
     "output_type": "execute_result"
    }
   ],
   "source": [
    "food_prod = pd.read_csv(\"data\" + os.sep + \"food production\" + os.sep + \"Production_Crops_Livestock_E_All_Data_NOFLAG.csv\", sep=\",\", encoding=\"latin-1\")\n",
    "food_prod.head()"
   ]
  },
  {
   "cell_type": "code",
   "execution_count": 24,
   "id": "1176581e",
   "metadata": {},
   "outputs": [
    {
     "data": {
      "text/html": [
       "<div>\n",
       "<style scoped>\n",
       "    .dataframe tbody tr th:only-of-type {\n",
       "        vertical-align: middle;\n",
       "    }\n",
       "\n",
       "    .dataframe tbody tr th {\n",
       "        vertical-align: top;\n",
       "    }\n",
       "\n",
       "    .dataframe thead th {\n",
       "        text-align: right;\n",
       "    }\n",
       "</style>\n",
       "<table border=\"1\" class=\"dataframe\">\n",
       "  <thead>\n",
       "    <tr style=\"text-align: right;\">\n",
       "      <th></th>\n",
       "      <th>Area Code</th>\n",
       "      <th>Area</th>\n",
       "      <th>Item Code</th>\n",
       "      <th>Item</th>\n",
       "      <th>Element Code</th>\n",
       "      <th>Element</th>\n",
       "      <th>Unit</th>\n",
       "      <th>Y1961</th>\n",
       "      <th>Y1962</th>\n",
       "      <th>Y1963</th>\n",
       "      <th>...</th>\n",
       "      <th>Y2011</th>\n",
       "      <th>Y2012</th>\n",
       "      <th>Y2013</th>\n",
       "      <th>Y2014</th>\n",
       "      <th>Y2015</th>\n",
       "      <th>Y2016</th>\n",
       "      <th>Y2017</th>\n",
       "      <th>Y2018</th>\n",
       "      <th>Y2019</th>\n",
       "      <th>Y2020</th>\n",
       "    </tr>\n",
       "  </thead>\n",
       "  <tbody>\n",
       "    <tr>\n",
       "      <th>2</th>\n",
       "      <td>2</td>\n",
       "      <td>Afghanistan</td>\n",
       "      <td>221</td>\n",
       "      <td>Almonds, with shell</td>\n",
       "      <td>5510</td>\n",
       "      <td>Production</td>\n",
       "      <td>tonnes</td>\n",
       "      <td>NaN</td>\n",
       "      <td>NaN</td>\n",
       "      <td>NaN</td>\n",
       "      <td>...</td>\n",
       "      <td>60611.0</td>\n",
       "      <td>62000.0</td>\n",
       "      <td>42215.0</td>\n",
       "      <td>27400.0</td>\n",
       "      <td>24246.0</td>\n",
       "      <td>32843.0</td>\n",
       "      <td>27291.0</td>\n",
       "      <td>34413.0</td>\n",
       "      <td>38205.0</td>\n",
       "      <td>39307.0</td>\n",
       "    </tr>\n",
       "    <tr>\n",
       "      <th>5</th>\n",
       "      <td>2</td>\n",
       "      <td>Afghanistan</td>\n",
       "      <td>711</td>\n",
       "      <td>Anise, badian, fennel, coriander</td>\n",
       "      <td>5510</td>\n",
       "      <td>Production</td>\n",
       "      <td>tonnes</td>\n",
       "      <td>NaN</td>\n",
       "      <td>NaN</td>\n",
       "      <td>NaN</td>\n",
       "      <td>...</td>\n",
       "      <td>12508.0</td>\n",
       "      <td>12500.0</td>\n",
       "      <td>12500.0</td>\n",
       "      <td>21500.0</td>\n",
       "      <td>18000.0</td>\n",
       "      <td>17333.0</td>\n",
       "      <td>18944.0</td>\n",
       "      <td>18093.0</td>\n",
       "      <td>18123.0</td>\n",
       "      <td>18387.0</td>\n",
       "    </tr>\n",
       "    <tr>\n",
       "      <th>8</th>\n",
       "      <td>2</td>\n",
       "      <td>Afghanistan</td>\n",
       "      <td>515</td>\n",
       "      <td>Apples</td>\n",
       "      <td>5510</td>\n",
       "      <td>Production</td>\n",
       "      <td>tonnes</td>\n",
       "      <td>15100.0</td>\n",
       "      <td>15100.0</td>\n",
       "      <td>15100.0</td>\n",
       "      <td>...</td>\n",
       "      <td>62041.0</td>\n",
       "      <td>70000.0</td>\n",
       "      <td>78597.0</td>\n",
       "      <td>89403.0</td>\n",
       "      <td>89733.0</td>\n",
       "      <td>140903.0</td>\n",
       "      <td>170443.0</td>\n",
       "      <td>217192.0</td>\n",
       "      <td>250324.0</td>\n",
       "      <td>270857.0</td>\n",
       "    </tr>\n",
       "    <tr>\n",
       "      <th>11</th>\n",
       "      <td>2</td>\n",
       "      <td>Afghanistan</td>\n",
       "      <td>526</td>\n",
       "      <td>Apricots</td>\n",
       "      <td>5510</td>\n",
       "      <td>Production</td>\n",
       "      <td>tonnes</td>\n",
       "      <td>32000.0</td>\n",
       "      <td>32000.0</td>\n",
       "      <td>32000.0</td>\n",
       "      <td>...</td>\n",
       "      <td>67995.0</td>\n",
       "      <td>83500.0</td>\n",
       "      <td>90000.0</td>\n",
       "      <td>90000.0</td>\n",
       "      <td>87686.0</td>\n",
       "      <td>17894.0</td>\n",
       "      <td>131816.0</td>\n",
       "      <td>109086.0</td>\n",
       "      <td>129363.0</td>\n",
       "      <td>131788.0</td>\n",
       "    </tr>\n",
       "    <tr>\n",
       "      <th>15</th>\n",
       "      <td>2</td>\n",
       "      <td>Afghanistan</td>\n",
       "      <td>44</td>\n",
       "      <td>Barley</td>\n",
       "      <td>5510</td>\n",
       "      <td>Production</td>\n",
       "      <td>tonnes</td>\n",
       "      <td>378000.0</td>\n",
       "      <td>378000.0</td>\n",
       "      <td>378000.0</td>\n",
       "      <td>...</td>\n",
       "      <td>305900.0</td>\n",
       "      <td>504000.0</td>\n",
       "      <td>514000.0</td>\n",
       "      <td>521000.0</td>\n",
       "      <td>403000.0</td>\n",
       "      <td>301856.0</td>\n",
       "      <td>94995.0</td>\n",
       "      <td>56781.0</td>\n",
       "      <td>123576.0</td>\n",
       "      <td>127757.0</td>\n",
       "    </tr>\n",
       "  </tbody>\n",
       "</table>\n",
       "<p>5 rows × 67 columns</p>\n",
       "</div>"
      ],
      "text/plain": [
       "    Area Code         Area  Item Code                              Item  \\\n",
       "2           2  Afghanistan        221               Almonds, with shell   \n",
       "5           2  Afghanistan        711  Anise, badian, fennel, coriander   \n",
       "8           2  Afghanistan        515                            Apples   \n",
       "11          2  Afghanistan        526                          Apricots   \n",
       "15          2  Afghanistan         44                            Barley   \n",
       "\n",
       "    Element Code     Element    Unit     Y1961     Y1962     Y1963  ...  \\\n",
       "2           5510  Production  tonnes       NaN       NaN       NaN  ...   \n",
       "5           5510  Production  tonnes       NaN       NaN       NaN  ...   \n",
       "8           5510  Production  tonnes   15100.0   15100.0   15100.0  ...   \n",
       "11          5510  Production  tonnes   32000.0   32000.0   32000.0  ...   \n",
       "15          5510  Production  tonnes  378000.0  378000.0  378000.0  ...   \n",
       "\n",
       "       Y2011     Y2012     Y2013     Y2014     Y2015     Y2016     Y2017  \\\n",
       "2    60611.0   62000.0   42215.0   27400.0   24246.0   32843.0   27291.0   \n",
       "5    12508.0   12500.0   12500.0   21500.0   18000.0   17333.0   18944.0   \n",
       "8    62041.0   70000.0   78597.0   89403.0   89733.0  140903.0  170443.0   \n",
       "11   67995.0   83500.0   90000.0   90000.0   87686.0   17894.0  131816.0   \n",
       "15  305900.0  504000.0  514000.0  521000.0  403000.0  301856.0   94995.0   \n",
       "\n",
       "       Y2018     Y2019     Y2020  \n",
       "2    34413.0   38205.0   39307.0  \n",
       "5    18093.0   18123.0   18387.0  \n",
       "8   217192.0  250324.0  270857.0  \n",
       "11  109086.0  129363.0  131788.0  \n",
       "15   56781.0  123576.0  127757.0  \n",
       "\n",
       "[5 rows x 67 columns]"
      ]
     },
     "execution_count": 24,
     "metadata": {},
     "output_type": "execute_result"
    }
   ],
   "source": [
    "# only use production amounts\n",
    "food_prod = food_prod[food_prod[\"Element\"] == \"Production\"]\n",
    "food_prod.head()"
   ]
  },
  {
   "cell_type": "code",
   "execution_count": 25,
   "id": "563debd9",
   "metadata": {},
   "outputs": [
    {
     "data": {
      "text/html": [
       "<div>\n",
       "<style scoped>\n",
       "    .dataframe tbody tr th:only-of-type {\n",
       "        vertical-align: middle;\n",
       "    }\n",
       "\n",
       "    .dataframe tbody tr th {\n",
       "        vertical-align: top;\n",
       "    }\n",
       "\n",
       "    .dataframe thead th {\n",
       "        text-align: right;\n",
       "    }\n",
       "</style>\n",
       "<table border=\"1\" class=\"dataframe\">\n",
       "  <thead>\n",
       "    <tr style=\"text-align: right;\">\n",
       "      <th></th>\n",
       "      <th>Y1961</th>\n",
       "      <th>Y1962</th>\n",
       "      <th>Y1963</th>\n",
       "      <th>Y1964</th>\n",
       "      <th>Y1965</th>\n",
       "      <th>Y1966</th>\n",
       "      <th>Y1967</th>\n",
       "      <th>Y1968</th>\n",
       "      <th>Y1969</th>\n",
       "      <th>Y1970</th>\n",
       "      <th>...</th>\n",
       "      <th>Y2011</th>\n",
       "      <th>Y2012</th>\n",
       "      <th>Y2013</th>\n",
       "      <th>Y2014</th>\n",
       "      <th>Y2015</th>\n",
       "      <th>Y2016</th>\n",
       "      <th>Y2017</th>\n",
       "      <th>Y2018</th>\n",
       "      <th>Y2019</th>\n",
       "      <th>Y2020</th>\n",
       "    </tr>\n",
       "  </thead>\n",
       "  <tbody>\n",
       "    <tr>\n",
       "      <th>2</th>\n",
       "      <td>NaN</td>\n",
       "      <td>NaN</td>\n",
       "      <td>NaN</td>\n",
       "      <td>NaN</td>\n",
       "      <td>NaN</td>\n",
       "      <td>NaN</td>\n",
       "      <td>NaN</td>\n",
       "      <td>NaN</td>\n",
       "      <td>NaN</td>\n",
       "      <td>NaN</td>\n",
       "      <td>...</td>\n",
       "      <td>60611.0</td>\n",
       "      <td>62000.0</td>\n",
       "      <td>42215.0</td>\n",
       "      <td>27400.0</td>\n",
       "      <td>24246.0</td>\n",
       "      <td>32843.0</td>\n",
       "      <td>27291.0</td>\n",
       "      <td>34413.0</td>\n",
       "      <td>38205.0</td>\n",
       "      <td>39307.0</td>\n",
       "    </tr>\n",
       "    <tr>\n",
       "      <th>5</th>\n",
       "      <td>NaN</td>\n",
       "      <td>NaN</td>\n",
       "      <td>NaN</td>\n",
       "      <td>NaN</td>\n",
       "      <td>NaN</td>\n",
       "      <td>NaN</td>\n",
       "      <td>NaN</td>\n",
       "      <td>NaN</td>\n",
       "      <td>NaN</td>\n",
       "      <td>NaN</td>\n",
       "      <td>...</td>\n",
       "      <td>12508.0</td>\n",
       "      <td>12500.0</td>\n",
       "      <td>12500.0</td>\n",
       "      <td>21500.0</td>\n",
       "      <td>18000.0</td>\n",
       "      <td>17333.0</td>\n",
       "      <td>18944.0</td>\n",
       "      <td>18093.0</td>\n",
       "      <td>18123.0</td>\n",
       "      <td>18387.0</td>\n",
       "    </tr>\n",
       "    <tr>\n",
       "      <th>8</th>\n",
       "      <td>15100.0</td>\n",
       "      <td>15100.0</td>\n",
       "      <td>15100.0</td>\n",
       "      <td>18400.0</td>\n",
       "      <td>20400.0</td>\n",
       "      <td>22800.0</td>\n",
       "      <td>27600.0</td>\n",
       "      <td>27900.0</td>\n",
       "      <td>28200.0</td>\n",
       "      <td>27300.0</td>\n",
       "      <td>...</td>\n",
       "      <td>62041.0</td>\n",
       "      <td>70000.0</td>\n",
       "      <td>78597.0</td>\n",
       "      <td>89403.0</td>\n",
       "      <td>89733.0</td>\n",
       "      <td>140903.0</td>\n",
       "      <td>170443.0</td>\n",
       "      <td>217192.0</td>\n",
       "      <td>250324.0</td>\n",
       "      <td>270857.0</td>\n",
       "    </tr>\n",
       "    <tr>\n",
       "      <th>11</th>\n",
       "      <td>32000.0</td>\n",
       "      <td>32000.0</td>\n",
       "      <td>32000.0</td>\n",
       "      <td>39200.0</td>\n",
       "      <td>43400.0</td>\n",
       "      <td>48400.0</td>\n",
       "      <td>58700.0</td>\n",
       "      <td>59400.0</td>\n",
       "      <td>60000.0</td>\n",
       "      <td>58100.0</td>\n",
       "      <td>...</td>\n",
       "      <td>67995.0</td>\n",
       "      <td>83500.0</td>\n",
       "      <td>90000.0</td>\n",
       "      <td>90000.0</td>\n",
       "      <td>87686.0</td>\n",
       "      <td>17894.0</td>\n",
       "      <td>131816.0</td>\n",
       "      <td>109086.0</td>\n",
       "      <td>129363.0</td>\n",
       "      <td>131788.0</td>\n",
       "    </tr>\n",
       "    <tr>\n",
       "      <th>15</th>\n",
       "      <td>378000.0</td>\n",
       "      <td>378000.0</td>\n",
       "      <td>378000.0</td>\n",
       "      <td>380000.0</td>\n",
       "      <td>380000.0</td>\n",
       "      <td>375000.0</td>\n",
       "      <td>357000.0</td>\n",
       "      <td>361000.0</td>\n",
       "      <td>365000.0</td>\n",
       "      <td>370000.0</td>\n",
       "      <td>...</td>\n",
       "      <td>305900.0</td>\n",
       "      <td>504000.0</td>\n",
       "      <td>514000.0</td>\n",
       "      <td>521000.0</td>\n",
       "      <td>403000.0</td>\n",
       "      <td>301856.0</td>\n",
       "      <td>94995.0</td>\n",
       "      <td>56781.0</td>\n",
       "      <td>123576.0</td>\n",
       "      <td>127757.0</td>\n",
       "    </tr>\n",
       "  </tbody>\n",
       "</table>\n",
       "<p>5 rows × 60 columns</p>\n",
       "</div>"
      ],
      "text/plain": [
       "       Y1961     Y1962     Y1963     Y1964     Y1965     Y1966     Y1967  \\\n",
       "2        NaN       NaN       NaN       NaN       NaN       NaN       NaN   \n",
       "5        NaN       NaN       NaN       NaN       NaN       NaN       NaN   \n",
       "8    15100.0   15100.0   15100.0   18400.0   20400.0   22800.0   27600.0   \n",
       "11   32000.0   32000.0   32000.0   39200.0   43400.0   48400.0   58700.0   \n",
       "15  378000.0  378000.0  378000.0  380000.0  380000.0  375000.0  357000.0   \n",
       "\n",
       "       Y1968     Y1969     Y1970  ...     Y2011     Y2012     Y2013     Y2014  \\\n",
       "2        NaN       NaN       NaN  ...   60611.0   62000.0   42215.0   27400.0   \n",
       "5        NaN       NaN       NaN  ...   12508.0   12500.0   12500.0   21500.0   \n",
       "8    27900.0   28200.0   27300.0  ...   62041.0   70000.0   78597.0   89403.0   \n",
       "11   59400.0   60000.0   58100.0  ...   67995.0   83500.0   90000.0   90000.0   \n",
       "15  361000.0  365000.0  370000.0  ...  305900.0  504000.0  514000.0  521000.0   \n",
       "\n",
       "       Y2015     Y2016     Y2017     Y2018     Y2019     Y2020  \n",
       "2    24246.0   32843.0   27291.0   34413.0   38205.0   39307.0  \n",
       "5    18000.0   17333.0   18944.0   18093.0   18123.0   18387.0  \n",
       "8    89733.0  140903.0  170443.0  217192.0  250324.0  270857.0  \n",
       "11   87686.0   17894.0  131816.0  109086.0  129363.0  131788.0  \n",
       "15  403000.0  301856.0   94995.0   56781.0  123576.0  127757.0  \n",
       "\n",
       "[5 rows x 60 columns]"
      ]
     },
     "execution_count": 25,
     "metadata": {},
     "output_type": "execute_result"
    }
   ],
   "source": [
    "# only use the production data iself without the meta data\n",
    "food_prod = food_prod.iloc[:,7:]\n",
    "food_prod.head()"
   ]
  },
  {
   "cell_type": "code",
   "execution_count": 26,
   "id": "b963b8f9",
   "metadata": {},
   "outputs": [
    {
     "data": {
      "text/html": [
       "<div>\n",
       "<style scoped>\n",
       "    .dataframe tbody tr th:only-of-type {\n",
       "        vertical-align: middle;\n",
       "    }\n",
       "\n",
       "    .dataframe tbody tr th {\n",
       "        vertical-align: top;\n",
       "    }\n",
       "\n",
       "    .dataframe thead th {\n",
       "        text-align: right;\n",
       "    }\n",
       "</style>\n",
       "<table border=\"1\" class=\"dataframe\">\n",
       "  <thead>\n",
       "    <tr style=\"text-align: right;\">\n",
       "      <th></th>\n",
       "      <th>Production</th>\n",
       "    </tr>\n",
       "  </thead>\n",
       "  <tbody>\n",
       "    <tr>\n",
       "      <th>Y2016</th>\n",
       "      <td>1.090368e+11</td>\n",
       "    </tr>\n",
       "    <tr>\n",
       "      <th>Y2017</th>\n",
       "      <td>1.120533e+11</td>\n",
       "    </tr>\n",
       "    <tr>\n",
       "      <th>Y2018</th>\n",
       "      <td>1.130403e+11</td>\n",
       "    </tr>\n",
       "    <tr>\n",
       "      <th>Y2019</th>\n",
       "      <td>1.146314e+11</td>\n",
       "    </tr>\n",
       "    <tr>\n",
       "      <th>Y2020</th>\n",
       "      <td>1.103574e+11</td>\n",
       "    </tr>\n",
       "  </tbody>\n",
       "</table>\n",
       "</div>"
      ],
      "text/plain": [
       "         Production\n",
       "Y2016  1.090368e+11\n",
       "Y2017  1.120533e+11\n",
       "Y2018  1.130403e+11\n",
       "Y2019  1.146314e+11\n",
       "Y2020  1.103574e+11"
      ]
     },
     "execution_count": 26,
     "metadata": {},
     "output_type": "execute_result"
    }
   ],
   "source": [
    "# Calculate total sums for the years\n",
    "food_prod = food_prod.sum(axis=0)\n",
    "food_prod = pd.DataFrame(pd.Series(food_prod))\n",
    "food_prod.columns = [\"Production\"]\n",
    "food_prod.tail()"
   ]
  },
  {
   "cell_type": "code",
   "execution_count": 27,
   "id": "759127bb",
   "metadata": {},
   "outputs": [
    {
     "data": {
      "text/plain": [
       "Text(0.5, 0, 'Year')"
      ]
     },
     "execution_count": 27,
     "metadata": {},
     "output_type": "execute_result"
    },
    {
     "data": {
      "image/png": "[encoded data removed]",
      "text/plain": [
       "<Figure size 432x288 with 1 Axes>"
      ]
     },
     "metadata": {
      "needs_background": "light"
     },
     "output_type": "display_data"
    }
   ],
   "source": [
    "# Plot it\n",
    "ax= food_prod.plot()\n",
    "ax.set_ylabel(\"Food Produced (t)\")\n",
    "ax.set_xlabel(\"Year\")\n",
    "# Is the drop in 2020 real?"
   ]
  },
  {
   "cell_type": "markdown",
   "id": "85c16290",
   "metadata": {},
   "source": [
    "# Calculate the food shocks"
   ]
  },
  {
   "cell_type": "code",
   "execution_count": 28,
   "id": "4c2a2fac",
   "metadata": {},
   "outputs": [
    {
     "data": {
      "text/html": [
       "<div>\n",
       "<style scoped>\n",
       "    .dataframe tbody tr th:only-of-type {\n",
       "        vertical-align: middle;\n",
       "    }\n",
       "\n",
       "    .dataframe tbody tr th {\n",
       "        vertical-align: top;\n",
       "    }\n",
       "\n",
       "    .dataframe thead th {\n",
       "        text-align: right;\n",
       "    }\n",
       "</style>\n",
       "<table border=\"1\" class=\"dataframe\">\n",
       "  <thead>\n",
       "    <tr style=\"text-align: right;\">\n",
       "      <th></th>\n",
       "      <th>Production</th>\n",
       "      <th>prc_change</th>\n",
       "    </tr>\n",
       "  </thead>\n",
       "  <tbody>\n",
       "    <tr>\n",
       "      <th>Y1961</th>\n",
       "      <td>2.978441e+10</td>\n",
       "      <td>NaN</td>\n",
       "    </tr>\n",
       "    <tr>\n",
       "      <th>Y1962</th>\n",
       "      <td>3.035268e+10</td>\n",
       "      <td>1.907962</td>\n",
       "    </tr>\n",
       "    <tr>\n",
       "      <th>Y1963</th>\n",
       "      <td>3.097957e+10</td>\n",
       "      <td>2.065330</td>\n",
       "    </tr>\n",
       "    <tr>\n",
       "      <th>Y1964</th>\n",
       "      <td>3.275143e+10</td>\n",
       "      <td>5.719473</td>\n",
       "    </tr>\n",
       "    <tr>\n",
       "      <th>Y1965</th>\n",
       "      <td>3.350449e+10</td>\n",
       "      <td>2.299293</td>\n",
       "    </tr>\n",
       "  </tbody>\n",
       "</table>\n",
       "</div>"
      ],
      "text/plain": [
       "         Production  prc_change\n",
       "Y1961  2.978441e+10         NaN\n",
       "Y1962  3.035268e+10    1.907962\n",
       "Y1963  3.097957e+10    2.065330\n",
       "Y1964  3.275143e+10    5.719473\n",
       "Y1965  3.350449e+10    2.299293"
      ]
     },
     "execution_count": 28,
     "metadata": {},
     "output_type": "execute_result"
    }
   ],
   "source": [
    "# Calculate the percentage change in food production each year\n",
    "food_prod[\"prc_change\"] = food_prod[\"Production\"].pct_change()*100\n",
    "food_prod.head()"
   ]
  },
  {
   "cell_type": "code",
   "execution_count": 29,
   "id": "7f257467",
   "metadata": {},
   "outputs": [
    {
     "data": {
      "text/plain": [
       "<matplotlib.legend.Legend at 0x7f2185e62b20>"
      ]
     },
     "execution_count": 29,
     "metadata": {},
     "output_type": "execute_result"
    },
    {
     "data": {
      "image/png": "[encoded data removed]",
      "text/plain": [
       "<Figure size 432x288 with 1 Axes>"
      ]
     },
     "metadata": {
      "needs_background": "light"
     },
     "output_type": "display_data"
    }
   ],
   "source": [
    "# Plot the percentage food production changes\n",
    "ax = food_prod[\"prc_change\"].plot(label=\"Yearly Change (%)\")\n",
    "ax.axhline(food_prod[\"prc_change\"].mean(), label=\"Mean Change\",color=\"black\")\n",
    "ax.legend()"
   ]
  },
  {
   "cell_type": "code",
   "execution_count": 30,
   "id": "b6f823c8",
   "metadata": {},
   "outputs": [],
   "source": [
    "# Calculate diff to mean change\n",
    "food_prod[\"Difference\"] = food_prod[\"prc_change\"] - food_prod[\"prc_change\"].mean()"
   ]
  },
  {
   "cell_type": "code",
   "execution_count": 31,
   "id": "1663be97",
   "metadata": {},
   "outputs": [
    {
     "data": {
      "text/plain": [
       "Text(0, 0.5, 'Difference in global production to mean')"
      ]
     },
     "execution_count": 31,
     "metadata": {},
     "output_type": "execute_result"
    },
    {
     "data": {
      "image/png": "[encoded data removed]",
      "text/plain": [
       "<Figure size 432x288 with 1 Axes>"
      ]
     },
     "metadata": {
      "needs_background": "light"
     },
     "output_type": "display_data"
    }
   ],
   "source": [
    "# plot the sorted difference\n",
    "ax = food_prod[\"Difference\"].sort_values().plot(kind=\"bar\")\n",
    "ax.set_ylabel(\"Difference in global production to mean\")"
   ]
  },
  {
   "cell_type": "markdown",
   "id": "168ccb10",
   "metadata": {},
   "source": [
    "# Cumulative distribution fitting with power law"
   ]
  },
  {
   "cell_type": "code",
   "execution_count": 32,
   "id": "06f899ae",
   "metadata": {},
   "outputs": [],
   "source": [
    "# Set all values above 0 to 0, as we are only interested in the shocks\n",
    "food_prod[\"Difference\"] = food_prod[\"Difference\"].where(food_prod[\"Difference\"]<0, other=0)"
   ]
  },
  {
   "cell_type": "code",
   "execution_count": 33,
   "id": "d058ebb1",
   "metadata": {},
   "outputs": [],
   "source": [
    "# set all negative values to absolute values to make the fitting more straightforward\n",
    "food_prod[\"Difference\"] = abs(food_prod[\"Difference\"])"
   ]
  },
  {
   "cell_type": "code",
   "execution_count": 34,
   "id": "e30376b3",
   "metadata": {},
   "outputs": [],
   "source": [
    "# Sort for further calculations with cumsum\n",
    "food_prod=food_prod.sort_values(\"Difference\",ascending=False)"
   ]
  },
  {
   "cell_type": "code",
   "execution_count": 35,
   "id": "67f78c34",
   "metadata": {},
   "outputs": [
    {
     "data": {
      "text/html": [
       "<div>\n",
       "<style scoped>\n",
       "    .dataframe tbody tr th:only-of-type {\n",
       "        vertical-align: middle;\n",
       "    }\n",
       "\n",
       "    .dataframe tbody tr th {\n",
       "        vertical-align: top;\n",
       "    }\n",
       "\n",
       "    .dataframe thead th {\n",
       "        text-align: right;\n",
       "    }\n",
       "</style>\n",
       "<table border=\"1\" class=\"dataframe\">\n",
       "  <thead>\n",
       "    <tr style=\"text-align: right;\">\n",
       "      <th></th>\n",
       "      <th>Production</th>\n",
       "      <th>prc_change</th>\n",
       "      <th>Difference</th>\n",
       "      <th>time</th>\n",
       "    </tr>\n",
       "  </thead>\n",
       "  <tbody>\n",
       "    <tr>\n",
       "      <th>Y2020</th>\n",
       "      <td>1.103574e+11</td>\n",
       "      <td>-3.728487</td>\n",
       "      <td>5.992450</td>\n",
       "      <td>0.016667</td>\n",
       "    </tr>\n",
       "    <tr>\n",
       "      <th>Y1972</th>\n",
       "      <td>3.896966e+10</td>\n",
       "      <td>-1.053685</td>\n",
       "      <td>3.317647</td>\n",
       "      <td>0.033333</td>\n",
       "    </tr>\n",
       "    <tr>\n",
       "      <th>Y1980</th>\n",
       "      <td>4.693613e+10</td>\n",
       "      <td>-1.022995</td>\n",
       "      <td>3.286958</td>\n",
       "      <td>0.050000</td>\n",
       "    </tr>\n",
       "    <tr>\n",
       "      <th>Y1983</th>\n",
       "      <td>5.123558e+10</td>\n",
       "      <td>-0.514436</td>\n",
       "      <td>2.778399</td>\n",
       "      <td>0.066667</td>\n",
       "    </tr>\n",
       "    <tr>\n",
       "      <th>Y1993</th>\n",
       "      <td>6.423281e+10</td>\n",
       "      <td>-0.408120</td>\n",
       "      <td>2.672082</td>\n",
       "      <td>0.083333</td>\n",
       "    </tr>\n",
       "  </tbody>\n",
       "</table>\n",
       "</div>"
      ],
      "text/plain": [
       "         Production  prc_change  Difference      time\n",
       "Y2020  1.103574e+11   -3.728487    5.992450  0.016667\n",
       "Y1972  3.896966e+10   -1.053685    3.317647  0.033333\n",
       "Y1980  4.693613e+10   -1.022995    3.286958  0.050000\n",
       "Y1983  5.123558e+10   -0.514436    2.778399  0.066667\n",
       "Y1993  6.423281e+10   -0.408120    2.672082  0.083333"
      ]
     },
     "execution_count": 35,
     "metadata": {},
     "output_type": "execute_result"
    }
   ],
   "source": [
    "# calculate the time fraction\n",
    "years = food_prod.shape[0]\n",
    "food_prod[\"time\"] = 1/years\n",
    "food_prod[\"time\"] = np.cumsum(food_prod[\"time\"])\n",
    "food_prod.head()"
   ]
  },
  {
   "cell_type": "code",
   "execution_count": 36,
   "id": "2b2485cf",
   "metadata": {},
   "outputs": [
    {
     "data": {
      "text/plain": [
       "Text(0.5, 1.0, 'Probability of food shock')"
      ]
     },
     "execution_count": 36,
     "metadata": {},
     "output_type": "execute_result"
    },
    {
     "data": {
      "image/png": "[encoded data removed]",
      "text/plain": [
       "<Figure size 432x288 with 1 Axes>"
      ]
     },
     "metadata": {
      "needs_background": "light"
     },
     "output_type": "display_data"
    }
   ],
   "source": [
    "# Plot\n",
    "fig = plt.Figure()\n",
    "plt.plot(food_prod[\"Difference\"], food_prod[\"time\"])\n",
    "ax = plt.gca()\n",
    "ax.set_xlabel(\"Food Shock [%]\")\n",
    "ax.set_ylabel(\"Probability\")\n",
    "ax.set_title(\"Probability of food shock\")"
   ]
  },
  {
   "cell_type": "code",
   "execution_count": 43,
   "id": "97b694b4",
   "metadata": {},
   "outputs": [
    {
     "data": {
      "text/plain": [
       "array([ 0.32192673, -0.49009578,  0.78361965])"
      ]
     },
     "execution_count": 43,
     "metadata": {},
     "output_type": "execute_result"
    }
   ],
   "source": [
    "# Fit data to power law\n",
    "def func_powerlaw(x, m, c, c0):\n",
    "    return c0 + x**m * c\n",
    "# Provide values for the parameters to avoid them becoming to negative?\n",
    "params, covar = curve_fit(func_powerlaw, food_prod[\"Difference\"], food_prod[\"time\"], maxfev=100000)\n",
    "params"
   ]
  },
  {
   "cell_type": "code",
   "execution_count": 44,
   "id": "2c300f5a",
   "metadata": {},
   "outputs": [
    {
     "data": {
      "text/plain": [
       "<matplotlib.legend.Legend at 0x7f2185b183a0>"
      ]
     },
     "execution_count": 44,
     "metadata": {},
     "output_type": "execute_result"
    },
    {
     "data": {
      "image/png": "[encoded data removed]",
      "text/plain": [
       "<Figure size 432x288 with 1 Axes>"
      ]
     },
     "metadata": {
      "needs_background": "light"
     },
     "output_type": "display_data"
    }
   ],
   "source": [
    "# Plot the power law\n",
    "x_sim = np.linspace(0,10)\n",
    "y_sim = func_powerlaw(x_sim, params[0], params[1], params[2])\n",
    "fig = plt.figure()\n",
    "ax = fig.add_subplot(2, 1, 1)\n",
    "ax.plot(x_sim, y_sim, label=\"sim\")\n",
    "ax.plot(food_prod[\"Difference\"], food_prod[\"time\"], label=\"real\")\n",
    "ax.set_ylim([0,1])\n",
    "ax.legend()\n",
    "#ax.set_xscale(\"log\")"
   ]
  },
  {
   "cell_type": "markdown",
   "id": "28b56181",
   "metadata": {},
   "source": [
    "Looks like a good fit. Only problem is the outlier of 2020. Was there really such a large shock?"
   ]
  },
  {
   "cell_type": "code",
   "execution_count": 39,
   "id": "465f305f",
   "metadata": {},
   "outputs": [
    {
     "name": "stdout",
     "output_type": "stream",
     "text": [
      "Food Shock [%]: 1\n",
      "Probability of food shock this size any given year: 0.27489582964847725\n",
      "Food Shock [%]: 2\n",
      "Probability of food shock this size any given year: 0.27489586644640723\n",
      "Food Shock [%]: 3\n",
      "Probability of food shock this size any given year: 0.27489588797181863\n",
      "Food Shock [%]: 4\n",
      "Probability of food shock this size any given year: 0.2748959032443421\n",
      "Food Shock [%]: 5\n",
      "Probability of food shock this size any given year: 0.2748959150906322\n",
      "Food Shock [%]: 6\n",
      "Probability of food shock this size any given year: 0.2748959247697564\n",
      "Food Shock [%]: 7\n",
      "Probability of food shock this size any given year: 0.27489593295333953\n",
      "Food Shock [%]: 8\n",
      "Probability of food shock this size any given year: 0.2748959400422819\n",
      "Food Shock [%]: 9\n",
      "Probability of food shock this size any given year: 0.2748959462951724\n",
      "Food Shock [%]: 10\n",
      "Probability of food shock this size any given year: 0.27489595188857363\n"
     ]
    }
   ],
   "source": [
    "# Probability of food shock\n",
    "food_shocks = np.array([1,2,3,4,5,6,7,8,9,10])\n",
    "probs = func_powerlaw(food_shocks, params[0], params[1], params[2])\n",
    "for i in range(len(food_shocks)):\n",
    "    print(\"Food Shock [%]: \" + (str(food_shocks[i])))\n",
    "    print(\"Probability of food shock this size any given year: \" + str(probs[i]))"
   ]
  },
  {
   "cell_type": "markdown",
   "id": "718468c8",
   "metadata": {},
   "source": [
    "# Fitting cumulative distribution in loglog space"
   ]
  },
  {
   "cell_type": "code",
   "execution_count": 40,
   "id": "fb745a97",
   "metadata": {},
   "outputs": [
    {
     "name": "stderr",
     "output_type": "stream",
     "text": [
      "/home/florian/local/anaconda3/lib/python3.9/site-packages/pandas/core/arraylike.py:364: RuntimeWarning: divide by zero encountered in log\n",
      "  result = getattr(ufunc, method)(*inputs, **kwargs)\n"
     ]
    }
   ],
   "source": [
    "# Transform data to loglog space\n",
    "log_food_shock = np.log(food_prod[\"Difference\"])\n",
    "log_time = np.log(food_prod[\"time\"])"
   ]
  },
  {
   "cell_type": "code",
   "execution_count": 41,
   "id": "bdb3ea17",
   "metadata": {},
   "outputs": [
    {
     "name": "stderr",
     "output_type": "stream",
     "text": [
      "/home/florian/local/anaconda3/lib/python3.9/site-packages/scipy/optimize/minpack.py:833: OptimizeWarning: Covariance of the parameters could not be estimated\n",
      "  warnings.warn('Covariance of the parameters could not be estimated',\n"
     ]
    },
    {
     "data": {
      "text/plain": [
       "array([1., 1., 1.])"
      ]
     },
     "execution_count": 41,
     "metadata": {},
     "output_type": "execute_result"
    }
   ],
   "source": [
    "# Fit data to power law\n",
    "def func_powerlaw(x, m, c, c0):\n",
    "    return c0 + x**m * c\n",
    "# Provide values for the parameters to avoid them becoming to negative?\n",
    "params, covar = curve_fit(func_powerlaw, log_food_shock, log_time, maxfev=100000000)\n",
    "params"
   ]
  },
  {
   "cell_type": "code",
   "execution_count": 42,
   "id": "449ce2eb",
   "metadata": {},
   "outputs": [
    {
     "data": {
      "text/plain": [
       "<matplotlib.legend.Legend at 0x7f2185b2fca0>"
      ]
     },
     "execution_count": 42,
     "metadata": {},
     "output_type": "execute_result"
    },
    {
     "data": {
      "image/png": "[encoded data removed]",
      "text/plain": [
       "<Figure size 432x288 with 1 Axes>"
      ]
     },
     "metadata": {
      "needs_background": "light"
     },
     "output_type": "display_data"
    }
   ],
   "source": [
    "# Plot the power law\n",
    "x_sim = np.linspace(-2.5,2.5)\n",
    "y_sim = func_powerlaw(x_sim, params[0], params[1], params[2])\n",
    "fig = plt.figure()\n",
    "ax = fig.add_subplot(2, 1, 1)\n",
    "ax.plot(x_sim, y_sim, label=\"sim\")\n",
    "ax.plot(log_food_shock, log_time, label=\"real\")\n",
    "ax.legend()\n",
    "#ax.set_ylim([0,1])\n",
    "#ax.set_xscale(\"log\")"
   ]
  }
 ],
 "metadata": {
  "kernelspec": {
   "display_name": "Python 3 (ipykernel)",
   "language": "python",
   "name": "python3"
  },
  "language_info": {
   "codemirror_mode": {
    "name": "ipython",
    "version": 3
   },
   "file_extension": ".py",
   "mimetype": "text/x-python",
   "name": "python",
   "nbconvert_exporter": "python",
   "pygments_lexer": "ipython3",
   "version": "3.9.7"
  }
 },
 "nbformat": 4,
 "nbformat_minor": 5
}
